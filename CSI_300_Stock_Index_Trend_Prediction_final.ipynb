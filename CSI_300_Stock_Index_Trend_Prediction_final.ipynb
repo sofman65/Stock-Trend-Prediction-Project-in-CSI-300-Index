{
  "cells": [
    {
      "cell_type": "code",
      "execution_count": null,
      "metadata": {
        "colab": {
          "base_uri": "https://localhost:8080/"
        },
        "id": "3BIjugJVgFdP",
        "outputId": "968192fc-94c0-433e-e86d-22c15989109c"
      },
      "outputs": [
        {
          "output_type": "stream",
          "name": "stdout",
          "text": [
            "Drive already mounted at /content/drive; to attempt to forcibly remount, call drive.mount(\"/content/drive\", force_remount=True).\n"
          ]
        }
      ],
      "source": [
        "from google.colab import drive\n",
        "drive.mount('/content/drive')\n"
      ]
    },
    {
      "cell_type": "code",
      "execution_count": null,
      "metadata": {
        "colab": {
          "base_uri": "https://localhost:8080/"
        },
        "id": "sSlFzpd1hyAo",
        "outputId": "92d7b575-0717-46b6-d401-7fd248bf0497"
      },
      "outputs": [
        {
          "output_type": "stream",
          "name": "stdout",
          "text": [
            "/content/drive/MyDrive/Colab Notebooks/Special_Subject_Rafailidis/Special sub/Notebooks\n"
          ]
        }
      ],
      "source": [
        "%cd \"/content/drive/MyDrive/Colab Notebooks/Special_Subject_Rafailidis/Special sub/Notebooks\""
      ]
    },
    {
      "cell_type": "code",
      "execution_count": null,
      "metadata": {
        "id": "OURPn8p6fYFv"
      },
      "outputs": [],
      "source": [
        "#from formulas import *\n",
        "import pandas as pd\n",
        "import numpy as np\n",
        "import datetime as dt\n",
        "import seaborn as sns\n",
        "import matplotlib.pyplot as plt\n",
        "%matplotlib inline\n",
        "\n",
        "from sklearn.preprocessing import MinMaxScaler\n",
        "\n",
        "import tensorflow as tf\n",
        "import numpy as np\n",
        "import pandas as pd\n",
        "import matplotlib.pyplot as plt\n",
        "import tensorflow as tf\n",
        "from sklearn.preprocessing import MinMaxScaler\n",
        "import seaborn as sns\n",
        "from numpy import isnan\n",
        "\n",
        "keras = tf.keras\n",
        "\n",
        "# set style of charts\n",
        "sns.set(style=\"darkgrid\")\n",
        "plt.rcParams['figure.figsize'] = [10, 10]\n"
      ]
    },
    {
      "cell_type": "code",
      "execution_count": null,
      "metadata": {
        "id": "4Ut1OkIx0xZI"
      },
      "outputs": [],
      "source": [
        "def plot_series(time, series, format=\"-\", start=0, end=None, label=None):\n",
        "    plt.plot(time[start:end], series[start:end], format, label=label)\n",
        "    plt.xlabel(\"Time\")\n",
        "    plt.ylabel(\"Value\")\n",
        "    if label:\n",
        "        plt.legend(fontsize=14)\n",
        "    plt.grid(True)\n",
        "\n",
        "def model_forecast(model, series, window_size):\n",
        "    ds = tf.data.Dataset.from_tensor_slices(series)\n",
        "    ds = ds.window(window_size, shift=1, drop_remainder=True)\n",
        "    ds = ds.flat_map(lambda w: w.batch(window_size))\n",
        "    ds = ds.batch(32).prefetch(1)\n",
        "    forecast = model.predict(ds)\n",
        "    return forecast\n",
        "\n",
        "def window_dataset(series, window_size, batch_size=128,\n",
        "                   shuffle_buffer=1000):\n",
        "    dataset = tf.data.Dataset.from_tensor_slices(series)\n",
        "    dataset = dataset.window(window_size + 1, shift=1, drop_remainder=True)\n",
        "    dataset = dataset.flat_map(lambda window: window.batch(window_size + 1))\n",
        "    dataset = dataset.shuffle(shuffle_buffer)\n",
        "    dataset = dataset.map(lambda window: (window[:-1], window[-1]))\n",
        "    dataset = dataset.batch(batch_size).prefetch(1)\n",
        "    return dataset\n",
        "\n",
        "def numerization(df, features = 0):\n",
        "\n",
        "  for features in df.iloc[:,1:6]:\n",
        "    df.iloc[0:][features] = df.iloc[0:][features].astype(str).str.replace(',', '', regex=True)\n",
        "    df.iloc[0:][features] = df.iloc[0:][features].astype(str).str.replace('K', '000', regex=True)\n",
        "    df.iloc[0:][features] = df.iloc[0:][features].astype(str).str.replace('%', '', regex=True)\n",
        "    #df.loc[:,'volume']= (df.loc[:,'volume']).replace('K,', '000', rege/x=True)\n",
        "    df.iloc[0:][features] = (df.iloc[0:][features]).apply(lambda x: float(x))\n",
        "  return df\n",
        "  #print(df.head(2))\n",
        "\n",
        "\n",
        "def fill_missing(values):\n",
        "\tone_day = 60 * 24\n",
        "\tfor row in range(values.shape[0]):\n",
        "\t\tfor col in range(values.shape[1]):\n",
        "\t\t\tif isnan(values[row, col]):\n",
        "\t\t\t\tvalues[row, col] = values[row - one_day, col]\n",
        "\n",
        "def rmse(pred, label):\n",
        "    return np.sqrt(np.mean((pred - label) ** 2))\n",
        "\n",
        "\n",
        "def createXY(dataset,n_past = 20):\n",
        "    dataX = []\n",
        "    dataY = []\n",
        "    for i in range(n_past, len(dataset)):\n",
        "            dataX.append(dataset[i - n_past:i, 0:dataset.shape[1]])\n",
        "            dataY.append(dataset[i,0])\n",
        "    return np.array(dataX),np.array(dataY)\n",
        "\n",
        "def convert_to_numeric(df):\n",
        "    for col in df.columns:\n",
        "        if df[col].dtype == 'object':\n",
        "            df[col] = pd.to_numeric(df[col].str.replace(\",\",\"\").str.replace(\"%\",\"\"))\n",
        "    return df\n",
        "\n",
        "def calculate_vwap_return_ratio(df):\n",
        "    # Create a new column for VWAP\n",
        "    df['vwap'] = (df['close'] * df['volume']).cumsum() / df['volume'].cumsum()\n",
        "    # Create a new column for return ratio\n",
        "    df['return_ratio_0'] = (df['vwap'].shift(-1) - df['vwap']) / df['vwap']\n",
        "    return df"
      ]
    },
    {
      "cell_type": "markdown",
      "source": [
        "## Risk Analysis Indicators"
      ],
      "metadata": {
        "id": "c8XRifGcKPt7"
      }
    },
    {
      "cell_type": "code",
      "execution_count": null,
      "metadata": {
        "id": "6vVi4E8FYl9C"
      },
      "outputs": [],
      "source": [
        "import numpy as np\n",
        "\n",
        "\n",
        "def rank_IC(predicted_returns, actual_returns):\n",
        "    \"\"\"\n",
        "    Calculate the rank IC of a set of predicted returns and actual returns.\n",
        "    :param predicted_returns: array-like of shape (n_samples,)\n",
        "    :param actual_returns: array-like of shape (n_samples,)\n",
        "    :return: float\n",
        "    \"\"\"\n",
        "    # Create a DataFrame with the predicted and actual returns\n",
        "    data = {'predicted_returns': predicted_returns, 'actual_returns': actual_returns}\n",
        "    df = pd.DataFrame(data)\n",
        "\n",
        "    # Calculate the spearman correlation between the predicted and actual returns\n",
        "    ic = df.corr(method='spearman')['predicted_returns']['actual_returns']\n",
        "    # Calculate the mean and standard deviation of the IC\n",
        "    mean_ic = ic.mean()\n",
        "    std_ic = ic.std()\n",
        "    # Return the rank IC\n",
        "    if std_ic == 0 or abs(mean_ic) == 1:\n",
        "      return mean_ic\n",
        "    else:\n",
        "      return mean_ic / std_ic\n",
        "\n",
        "\n",
        "\n",
        "def rank_IR(returns):\n",
        "    \"\"\"\n",
        "    Calculate the rank IR of a given set of returns.\n",
        "    :param returns: array-like of shape (n_samples,)\n",
        "    :return: float\n",
        "    \"\"\"\n",
        "    # Calculate the mean and standard deviation of the returns\n",
        "    mean = np.mean(returns)\n",
        "    std = np.std(returns)\n",
        "    return mean / std\n",
        "\n",
        "import numpy as np\n",
        "\n",
        "def annual_return(returns, periods_per_year=252):\n",
        "    \"\"\"\n",
        "    Calculate the annualized return of a set of returns.\n",
        "    :param returns: array-like of shape (n_samples,)\n",
        "    :param periods_per_year: int, number of periods per year, defaults to 252 (trading days)\n",
        "    :return: float\n",
        "    \"\"\"\n",
        "    # Calculate the cumulative return\n",
        "    cum_return = (1 + returns).prod()\n",
        "    # Annualize the return\n",
        "    n = len(returns)\n",
        "    ar = (cum_return ** (periods_per_year / n)) - 1\n",
        "    # Return the annualized return\n",
        "    return ar * 100\n",
        "\n",
        "def sharpe_ratio(returns, risk_free_rate=0, periods_per_year=252):\n",
        "    \"\"\"\n",
        "    Calculate the Sharpe ratio of a given set of returns.\n",
        "    :param returns: array-like of shape (n_samples,)\n",
        "    :param risk_free_rate: float\n",
        "    :param periods_per_year: int\n",
        "    :return: float\n",
        "    \"\"\"\n",
        "    # Calculate the excess returns\n",
        "    excess_returns = returns - risk_free_rate\n",
        "    # Calculate the annualized excess returns\n",
        "    annualized_excess_returns = excess_returns.mean() * periods_per_year\n",
        "    # Calculate the annualized volatility\n",
        "    annualized_volatility = excess_returns.std() * np.sqrt(periods_per_year)\n",
        "    # Calculate the Sharpe ratio\n",
        "    return annualized_excess_returns / annualized_volatility\n",
        "\n",
        "def max_drawdown(returns):\n",
        "    \"\"\"\n",
        "    Calculate the maximum drawdown of a given set of returns.\n",
        "    :param returns: array-like of shape (n_samples,)\n",
        "    :return: float\n",
        "    \"\"\"\n",
        "    # Calculate the cumulative returns\n",
        "    cumulative_returns = (1 + returns).cumprod()\n",
        "    # Calculate the maximum drawdown\n",
        "    return (cumulative_returns.cummax() - cumulative_returns) / cumulative_returns.cummax()\n",
        "\n",
        "def max_drawdown0(returns):\n",
        "    cumulative_returns = (1 + returns).cumprod()\n",
        "    running_max = np.maximum.accumulate(cumulative_returns)\n",
        "    drawdown = (cumulative_returns - running_max) / running_max\n",
        "    max_drawdown = np.min(drawdown)\n",
        "    return max_drawdown\n",
        "\n",
        "\n"
      ]
    },
    {
      "cell_type": "code",
      "execution_count": null,
      "metadata": {
        "id": "QU1wu0AR8jJM"
      },
      "outputs": [],
      "source": [
        "import tensorflow as tf\n",
        "\n",
        "class CorrelationCoefficient(tf.keras.metrics.Metric):\n",
        "    def __init__(self, name='correlation_coefficient', **kwargs):\n",
        "        super(CorrelationCoefficient, self).__init__(name=name, **kwargs)\n",
        "        self.correlation = self.add_weight(name='correlation', initializer='zeros')\n",
        "\n",
        "    def update_state(self, y_true, y_pred, sample_weight=None):\n",
        "        y_true = tf.convert_to_tensor(y_true, dtype=tf.float32)\n",
        "        y_pred = tf.convert_to_tensor(y_pred, dtype=tf.float32)\n",
        "        y_true_mean = tf.math.reduce_mean(y_true)\n",
        "        y_pred_mean = tf.math.reduce_mean(y_pred)\n",
        "        numerator = tf.math.reduce_sum((y_true - y_true_mean) * (y_pred - y_pred_mean))\n",
        "        denominator = tf.math.sqrt(tf.math.reduce_sum(tf.math.square(y_true - y_true_mean)) * tf.math.reduce_sum(tf.math.square(y_pred - y_pred_mean)))\n",
        "        correlation = numerator / denominator\n",
        "        self.correlation.assign(correlation)\n",
        "\n",
        "    def result(self):\n",
        "        return self.correlation\n",
        "    \n",
        "    def reset_states(self):\n",
        "        self.correlation.assign(0)"
      ]
    },
    {
      "cell_type": "code",
      "execution_count": null,
      "metadata": {
        "colab": {
          "base_uri": "https://localhost:8080/",
          "height": 206
        },
        "id": "3N1r8Sa6gK7G",
        "outputId": "c0d67fc1-bc4c-4dda-82db-546c31680e08"
      },
      "outputs": [
        {
          "output_type": "execute_result",
          "data": {
            "text/plain": [
              "     datetime    close     open     high      low  volume  pct_change  \\\n",
              "0  2007-01-02  2395.17  2350.60  2410.42  2310.57   65.08        0.41   \n",
              "1  2007-01-03  2473.54  2550.26  2550.33  2439.50   82.16       -2.79   \n",
              "2  2007-01-06  3803.95  3953.10  4014.15  3780.03  119.94       -3.16   \n",
              "3  2007-01-08  4290.48  4479.30  4496.25  4271.06   79.36       -3.81   \n",
              "4  2007-01-11  5605.23  5701.49  5702.21  5604.79   46.61       -1.46   \n",
              "\n",
              "     adj.close  \n",
              "0  2404.990119  \n",
              "1  2404.528272  \n",
              "2  3683.745133  \n",
              "3  4127.012693  \n",
              "4  5523.393623  "
            ],
            "text/html": [
              "\n",
              "  <div id=\"df-35fb928b-fe98-47e6-811f-642647cb3282\">\n",
              "    <div class=\"colab-df-container\">\n",
              "      <div>\n",
              "<style scoped>\n",
              "    .dataframe tbody tr th:only-of-type {\n",
              "        vertical-align: middle;\n",
              "    }\n",
              "\n",
              "    .dataframe tbody tr th {\n",
              "        vertical-align: top;\n",
              "    }\n",
              "\n",
              "    .dataframe thead th {\n",
              "        text-align: right;\n",
              "    }\n",
              "</style>\n",
              "<table border=\"1\" class=\"dataframe\">\n",
              "  <thead>\n",
              "    <tr style=\"text-align: right;\">\n",
              "      <th></th>\n",
              "      <th>datetime</th>\n",
              "      <th>close</th>\n",
              "      <th>open</th>\n",
              "      <th>high</th>\n",
              "      <th>low</th>\n",
              "      <th>volume</th>\n",
              "      <th>pct_change</th>\n",
              "      <th>adj.close</th>\n",
              "    </tr>\n",
              "  </thead>\n",
              "  <tbody>\n",
              "    <tr>\n",
              "      <th>0</th>\n",
              "      <td>2007-01-02</td>\n",
              "      <td>2395.17</td>\n",
              "      <td>2350.60</td>\n",
              "      <td>2410.42</td>\n",
              "      <td>2310.57</td>\n",
              "      <td>65.08</td>\n",
              "      <td>0.41</td>\n",
              "      <td>2404.990119</td>\n",
              "    </tr>\n",
              "    <tr>\n",
              "      <th>1</th>\n",
              "      <td>2007-01-03</td>\n",
              "      <td>2473.54</td>\n",
              "      <td>2550.26</td>\n",
              "      <td>2550.33</td>\n",
              "      <td>2439.50</td>\n",
              "      <td>82.16</td>\n",
              "      <td>-2.79</td>\n",
              "      <td>2404.528272</td>\n",
              "    </tr>\n",
              "    <tr>\n",
              "      <th>2</th>\n",
              "      <td>2007-01-06</td>\n",
              "      <td>3803.95</td>\n",
              "      <td>3953.10</td>\n",
              "      <td>4014.15</td>\n",
              "      <td>3780.03</td>\n",
              "      <td>119.94</td>\n",
              "      <td>-3.16</td>\n",
              "      <td>3683.745133</td>\n",
              "    </tr>\n",
              "    <tr>\n",
              "      <th>3</th>\n",
              "      <td>2007-01-08</td>\n",
              "      <td>4290.48</td>\n",
              "      <td>4479.30</td>\n",
              "      <td>4496.25</td>\n",
              "      <td>4271.06</td>\n",
              "      <td>79.36</td>\n",
              "      <td>-3.81</td>\n",
              "      <td>4127.012693</td>\n",
              "    </tr>\n",
              "    <tr>\n",
              "      <th>4</th>\n",
              "      <td>2007-01-11</td>\n",
              "      <td>5605.23</td>\n",
              "      <td>5701.49</td>\n",
              "      <td>5702.21</td>\n",
              "      <td>5604.79</td>\n",
              "      <td>46.61</td>\n",
              "      <td>-1.46</td>\n",
              "      <td>5523.393623</td>\n",
              "    </tr>\n",
              "  </tbody>\n",
              "</table>\n",
              "</div>\n",
              "      <button class=\"colab-df-convert\" onclick=\"convertToInteractive('df-35fb928b-fe98-47e6-811f-642647cb3282')\"\n",
              "              title=\"Convert this dataframe to an interactive table.\"\n",
              "              style=\"display:none;\">\n",
              "        \n",
              "  <svg xmlns=\"http://www.w3.org/2000/svg\" height=\"24px\"viewBox=\"0 0 24 24\"\n",
              "       width=\"24px\">\n",
              "    <path d=\"M0 0h24v24H0V0z\" fill=\"none\"/>\n",
              "    <path d=\"M18.56 5.44l.94 2.06.94-2.06 2.06-.94-2.06-.94-.94-2.06-.94 2.06-2.06.94zm-11 1L8.5 8.5l.94-2.06 2.06-.94-2.06-.94L8.5 2.5l-.94 2.06-2.06.94zm10 10l.94 2.06.94-2.06 2.06-.94-2.06-.94-.94-2.06-.94 2.06-2.06.94z\"/><path d=\"M17.41 7.96l-1.37-1.37c-.4-.4-.92-.59-1.43-.59-.52 0-1.04.2-1.43.59L10.3 9.45l-7.72 7.72c-.78.78-.78 2.05 0 2.83L4 21.41c.39.39.9.59 1.41.59.51 0 1.02-.2 1.41-.59l7.78-7.78 2.81-2.81c.8-.78.8-2.07 0-2.86zM5.41 20L4 18.59l7.72-7.72 1.47 1.35L5.41 20z\"/>\n",
              "  </svg>\n",
              "      </button>\n",
              "      \n",
              "  <style>\n",
              "    .colab-df-container {\n",
              "      display:flex;\n",
              "      flex-wrap:wrap;\n",
              "      gap: 12px;\n",
              "    }\n",
              "\n",
              "    .colab-df-convert {\n",
              "      background-color: #E8F0FE;\n",
              "      border: none;\n",
              "      border-radius: 50%;\n",
              "      cursor: pointer;\n",
              "      display: none;\n",
              "      fill: #1967D2;\n",
              "      height: 32px;\n",
              "      padding: 0 0 0 0;\n",
              "      width: 32px;\n",
              "    }\n",
              "\n",
              "    .colab-df-convert:hover {\n",
              "      background-color: #E2EBFA;\n",
              "      box-shadow: 0px 1px 2px rgba(60, 64, 67, 0.3), 0px 1px 3px 1px rgba(60, 64, 67, 0.15);\n",
              "      fill: #174EA6;\n",
              "    }\n",
              "\n",
              "    [theme=dark] .colab-df-convert {\n",
              "      background-color: #3B4455;\n",
              "      fill: #D2E3FC;\n",
              "    }\n",
              "\n",
              "    [theme=dark] .colab-df-convert:hover {\n",
              "      background-color: #434B5C;\n",
              "      box-shadow: 0px 1px 3px 1px rgba(0, 0, 0, 0.15);\n",
              "      filter: drop-shadow(0px 1px 2px rgba(0, 0, 0, 0.3));\n",
              "      fill: #FFFFFF;\n",
              "    }\n",
              "  </style>\n",
              "\n",
              "      <script>\n",
              "        const buttonEl =\n",
              "          document.querySelector('#df-35fb928b-fe98-47e6-811f-642647cb3282 button.colab-df-convert');\n",
              "        buttonEl.style.display =\n",
              "          google.colab.kernel.accessAllowed ? 'block' : 'none';\n",
              "\n",
              "        async function convertToInteractive(key) {\n",
              "          const element = document.querySelector('#df-35fb928b-fe98-47e6-811f-642647cb3282');\n",
              "          const dataTable =\n",
              "            await google.colab.kernel.invokeFunction('convertToInteractive',\n",
              "                                                     [key], {});\n",
              "          if (!dataTable) return;\n",
              "\n",
              "          const docLinkHtml = 'Like what you see? Visit the ' +\n",
              "            '<a target=\"_blank\" href=https://colab.research.google.com/notebooks/data_table.ipynb>data table notebook</a>'\n",
              "            + ' to learn more about interactive tables.';\n",
              "          element.innerHTML = '';\n",
              "          dataTable['output_type'] = 'display_data';\n",
              "          await google.colab.output.renderOutput(dataTable, element);\n",
              "          const docLink = document.createElement('div');\n",
              "          docLink.innerHTML = docLinkHtml;\n",
              "          element.appendChild(docLink);\n",
              "        }\n",
              "      </script>\n",
              "    </div>\n",
              "  </div>\n",
              "  "
            ]
          },
          "metadata": {},
          "execution_count": 291
        }
      ],
      "source": [
        "df = pd.read_csv(\"/content/drive/MyDrive/Colab Notebooks/Special_Subject_Rafailidis/Special sub/csi_300_final_version.csv\")\n",
        "df.head(5)"
      ]
    },
    {
      "cell_type": "code",
      "execution_count": null,
      "metadata": {
        "id": "ddbpGR9ND19N"
      },
      "outputs": [],
      "source": [
        "#df['adj.close'] = df['close'] * (1 + df['pct_change']/100)"
      ]
    },
    {
      "cell_type": "code",
      "execution_count": null,
      "metadata": {
        "id": "9wySZJ8q0c0F"
      },
      "outputs": [],
      "source": [
        "df['return_ratio'] = df['adj.close'].pct_change()\n",
        "df['return_ratio'] = df['return_ratio'].fillna(0)"
      ]
    },
    {
      "cell_type": "code",
      "execution_count": null,
      "metadata": {
        "id": "6MGSwNkD0oy8"
      },
      "outputs": [],
      "source": [
        "df['cum_return'] = np.cumsum(df['return_ratio'])"
      ]
    },
    {
      "cell_type": "code",
      "source": [
        "calculate_vwap_return_ratio(df)"
      ],
      "metadata": {
        "id": "M5eJovH4cFK3",
        "outputId": "fe4e97d1-8c8a-4de3-994a-6bf9d3aa5ac5",
        "colab": {
          "base_uri": "https://localhost:8080/",
          "height": 423
        }
      },
      "execution_count": null,
      "outputs": [
        {
          "output_type": "execute_result",
          "data": {
            "text/plain": [
              "        datetime    close     open     high      low  volume  pct_change  \\\n",
              "0     2007-01-02  2395.17  2350.60  2410.42  2310.57   65.08        0.41   \n",
              "1     2007-01-03  2473.54  2550.26  2550.33  2439.50   82.16       -2.79   \n",
              "2     2007-01-06  3803.95  3953.10  4014.15  3780.03  119.94       -3.16   \n",
              "3     2007-01-08  4290.48  4479.30  4496.25  4271.06   79.36       -3.81   \n",
              "4     2007-01-11  5605.23  5701.49  5702.21  5604.79   46.61       -1.46   \n",
              "...          ...      ...      ...      ...      ...     ...         ...   \n",
              "3160  2019-12-25  3990.87  3988.66  4000.56  3976.36   94.94       -0.05   \n",
              "3161  2019-12-26  4025.99  3993.67  4025.99  3993.54  108.86        0.88   \n",
              "3162  2019-12-27  4022.03  4029.25  4066.80  4019.72  150.93       -0.10   \n",
              "3163  2019-12-30  4081.63  4015.52  4083.69  4001.50  155.97        1.48   \n",
              "3164  2019-12-31  4096.58  4077.75  4098.14  4069.01  123.26        0.37   \n",
              "\n",
              "        adj.close  return_ratio  cum_return         vwap  return_ratio_0  \n",
              "0     2404.990119      0.000000    0.000000  2395.170000        0.018258  \n",
              "1     2404.528272     -0.000192   -0.000192  2438.900503        0.251255  \n",
              "2     3683.745133      0.532003    0.531811  3051.686028        0.092962  \n",
              "3     4127.012693      0.120331    0.652142  3335.378213        0.080681  \n",
              "4     5523.393623      0.338351    0.990493  3604.481079       -0.052799  \n",
              "...           ...           ...         ...          ...             ...  \n",
              "3160  3988.874682     -0.007475   21.370116  3425.980411        0.000061  \n",
              "3161  4061.418702      0.018187   21.388303  3426.189705        0.000084  \n",
              "3162  4018.007999     -0.010689   21.377615  3426.477726        0.000095  \n",
              "3163  4142.038005      0.030869   21.408483  3426.804830        0.000077  \n",
              "3164  4111.737424     -0.007315   21.401168  3427.068999             NaN  \n",
              "\n",
              "[3165 rows x 12 columns]"
            ],
            "text/html": [
              "\n",
              "  <div id=\"df-029a2121-7277-4f6c-8172-3d76441623f0\">\n",
              "    <div class=\"colab-df-container\">\n",
              "      <div>\n",
              "<style scoped>\n",
              "    .dataframe tbody tr th:only-of-type {\n",
              "        vertical-align: middle;\n",
              "    }\n",
              "\n",
              "    .dataframe tbody tr th {\n",
              "        vertical-align: top;\n",
              "    }\n",
              "\n",
              "    .dataframe thead th {\n",
              "        text-align: right;\n",
              "    }\n",
              "</style>\n",
              "<table border=\"1\" class=\"dataframe\">\n",
              "  <thead>\n",
              "    <tr style=\"text-align: right;\">\n",
              "      <th></th>\n",
              "      <th>datetime</th>\n",
              "      <th>close</th>\n",
              "      <th>open</th>\n",
              "      <th>high</th>\n",
              "      <th>low</th>\n",
              "      <th>volume</th>\n",
              "      <th>pct_change</th>\n",
              "      <th>adj.close</th>\n",
              "      <th>return_ratio</th>\n",
              "      <th>cum_return</th>\n",
              "      <th>vwap</th>\n",
              "      <th>return_ratio_0</th>\n",
              "    </tr>\n",
              "  </thead>\n",
              "  <tbody>\n",
              "    <tr>\n",
              "      <th>0</th>\n",
              "      <td>2007-01-02</td>\n",
              "      <td>2395.17</td>\n",
              "      <td>2350.60</td>\n",
              "      <td>2410.42</td>\n",
              "      <td>2310.57</td>\n",
              "      <td>65.08</td>\n",
              "      <td>0.41</td>\n",
              "      <td>2404.990119</td>\n",
              "      <td>0.000000</td>\n",
              "      <td>0.000000</td>\n",
              "      <td>2395.170000</td>\n",
              "      <td>0.018258</td>\n",
              "    </tr>\n",
              "    <tr>\n",
              "      <th>1</th>\n",
              "      <td>2007-01-03</td>\n",
              "      <td>2473.54</td>\n",
              "      <td>2550.26</td>\n",
              "      <td>2550.33</td>\n",
              "      <td>2439.50</td>\n",
              "      <td>82.16</td>\n",
              "      <td>-2.79</td>\n",
              "      <td>2404.528272</td>\n",
              "      <td>-0.000192</td>\n",
              "      <td>-0.000192</td>\n",
              "      <td>2438.900503</td>\n",
              "      <td>0.251255</td>\n",
              "    </tr>\n",
              "    <tr>\n",
              "      <th>2</th>\n",
              "      <td>2007-01-06</td>\n",
              "      <td>3803.95</td>\n",
              "      <td>3953.10</td>\n",
              "      <td>4014.15</td>\n",
              "      <td>3780.03</td>\n",
              "      <td>119.94</td>\n",
              "      <td>-3.16</td>\n",
              "      <td>3683.745133</td>\n",
              "      <td>0.532003</td>\n",
              "      <td>0.531811</td>\n",
              "      <td>3051.686028</td>\n",
              "      <td>0.092962</td>\n",
              "    </tr>\n",
              "    <tr>\n",
              "      <th>3</th>\n",
              "      <td>2007-01-08</td>\n",
              "      <td>4290.48</td>\n",
              "      <td>4479.30</td>\n",
              "      <td>4496.25</td>\n",
              "      <td>4271.06</td>\n",
              "      <td>79.36</td>\n",
              "      <td>-3.81</td>\n",
              "      <td>4127.012693</td>\n",
              "      <td>0.120331</td>\n",
              "      <td>0.652142</td>\n",
              "      <td>3335.378213</td>\n",
              "      <td>0.080681</td>\n",
              "    </tr>\n",
              "    <tr>\n",
              "      <th>4</th>\n",
              "      <td>2007-01-11</td>\n",
              "      <td>5605.23</td>\n",
              "      <td>5701.49</td>\n",
              "      <td>5702.21</td>\n",
              "      <td>5604.79</td>\n",
              "      <td>46.61</td>\n",
              "      <td>-1.46</td>\n",
              "      <td>5523.393623</td>\n",
              "      <td>0.338351</td>\n",
              "      <td>0.990493</td>\n",
              "      <td>3604.481079</td>\n",
              "      <td>-0.052799</td>\n",
              "    </tr>\n",
              "    <tr>\n",
              "      <th>...</th>\n",
              "      <td>...</td>\n",
              "      <td>...</td>\n",
              "      <td>...</td>\n",
              "      <td>...</td>\n",
              "      <td>...</td>\n",
              "      <td>...</td>\n",
              "      <td>...</td>\n",
              "      <td>...</td>\n",
              "      <td>...</td>\n",
              "      <td>...</td>\n",
              "      <td>...</td>\n",
              "      <td>...</td>\n",
              "    </tr>\n",
              "    <tr>\n",
              "      <th>3160</th>\n",
              "      <td>2019-12-25</td>\n",
              "      <td>3990.87</td>\n",
              "      <td>3988.66</td>\n",
              "      <td>4000.56</td>\n",
              "      <td>3976.36</td>\n",
              "      <td>94.94</td>\n",
              "      <td>-0.05</td>\n",
              "      <td>3988.874682</td>\n",
              "      <td>-0.007475</td>\n",
              "      <td>21.370116</td>\n",
              "      <td>3425.980411</td>\n",
              "      <td>0.000061</td>\n",
              "    </tr>\n",
              "    <tr>\n",
              "      <th>3161</th>\n",
              "      <td>2019-12-26</td>\n",
              "      <td>4025.99</td>\n",
              "      <td>3993.67</td>\n",
              "      <td>4025.99</td>\n",
              "      <td>3993.54</td>\n",
              "      <td>108.86</td>\n",
              "      <td>0.88</td>\n",
              "      <td>4061.418702</td>\n",
              "      <td>0.018187</td>\n",
              "      <td>21.388303</td>\n",
              "      <td>3426.189705</td>\n",
              "      <td>0.000084</td>\n",
              "    </tr>\n",
              "    <tr>\n",
              "      <th>3162</th>\n",
              "      <td>2019-12-27</td>\n",
              "      <td>4022.03</td>\n",
              "      <td>4029.25</td>\n",
              "      <td>4066.80</td>\n",
              "      <td>4019.72</td>\n",
              "      <td>150.93</td>\n",
              "      <td>-0.10</td>\n",
              "      <td>4018.007999</td>\n",
              "      <td>-0.010689</td>\n",
              "      <td>21.377615</td>\n",
              "      <td>3426.477726</td>\n",
              "      <td>0.000095</td>\n",
              "    </tr>\n",
              "    <tr>\n",
              "      <th>3163</th>\n",
              "      <td>2019-12-30</td>\n",
              "      <td>4081.63</td>\n",
              "      <td>4015.52</td>\n",
              "      <td>4083.69</td>\n",
              "      <td>4001.50</td>\n",
              "      <td>155.97</td>\n",
              "      <td>1.48</td>\n",
              "      <td>4142.038005</td>\n",
              "      <td>0.030869</td>\n",
              "      <td>21.408483</td>\n",
              "      <td>3426.804830</td>\n",
              "      <td>0.000077</td>\n",
              "    </tr>\n",
              "    <tr>\n",
              "      <th>3164</th>\n",
              "      <td>2019-12-31</td>\n",
              "      <td>4096.58</td>\n",
              "      <td>4077.75</td>\n",
              "      <td>4098.14</td>\n",
              "      <td>4069.01</td>\n",
              "      <td>123.26</td>\n",
              "      <td>0.37</td>\n",
              "      <td>4111.737424</td>\n",
              "      <td>-0.007315</td>\n",
              "      <td>21.401168</td>\n",
              "      <td>3427.068999</td>\n",
              "      <td>NaN</td>\n",
              "    </tr>\n",
              "  </tbody>\n",
              "</table>\n",
              "<p>3165 rows × 12 columns</p>\n",
              "</div>\n",
              "      <button class=\"colab-df-convert\" onclick=\"convertToInteractive('df-029a2121-7277-4f6c-8172-3d76441623f0')\"\n",
              "              title=\"Convert this dataframe to an interactive table.\"\n",
              "              style=\"display:none;\">\n",
              "        \n",
              "  <svg xmlns=\"http://www.w3.org/2000/svg\" height=\"24px\"viewBox=\"0 0 24 24\"\n",
              "       width=\"24px\">\n",
              "    <path d=\"M0 0h24v24H0V0z\" fill=\"none\"/>\n",
              "    <path d=\"M18.56 5.44l.94 2.06.94-2.06 2.06-.94-2.06-.94-.94-2.06-.94 2.06-2.06.94zm-11 1L8.5 8.5l.94-2.06 2.06-.94-2.06-.94L8.5 2.5l-.94 2.06-2.06.94zm10 10l.94 2.06.94-2.06 2.06-.94-2.06-.94-.94-2.06-.94 2.06-2.06.94z\"/><path d=\"M17.41 7.96l-1.37-1.37c-.4-.4-.92-.59-1.43-.59-.52 0-1.04.2-1.43.59L10.3 9.45l-7.72 7.72c-.78.78-.78 2.05 0 2.83L4 21.41c.39.39.9.59 1.41.59.51 0 1.02-.2 1.41-.59l7.78-7.78 2.81-2.81c.8-.78.8-2.07 0-2.86zM5.41 20L4 18.59l7.72-7.72 1.47 1.35L5.41 20z\"/>\n",
              "  </svg>\n",
              "      </button>\n",
              "      \n",
              "  <style>\n",
              "    .colab-df-container {\n",
              "      display:flex;\n",
              "      flex-wrap:wrap;\n",
              "      gap: 12px;\n",
              "    }\n",
              "\n",
              "    .colab-df-convert {\n",
              "      background-color: #E8F0FE;\n",
              "      border: none;\n",
              "      border-radius: 50%;\n",
              "      cursor: pointer;\n",
              "      display: none;\n",
              "      fill: #1967D2;\n",
              "      height: 32px;\n",
              "      padding: 0 0 0 0;\n",
              "      width: 32px;\n",
              "    }\n",
              "\n",
              "    .colab-df-convert:hover {\n",
              "      background-color: #E2EBFA;\n",
              "      box-shadow: 0px 1px 2px rgba(60, 64, 67, 0.3), 0px 1px 3px 1px rgba(60, 64, 67, 0.15);\n",
              "      fill: #174EA6;\n",
              "    }\n",
              "\n",
              "    [theme=dark] .colab-df-convert {\n",
              "      background-color: #3B4455;\n",
              "      fill: #D2E3FC;\n",
              "    }\n",
              "\n",
              "    [theme=dark] .colab-df-convert:hover {\n",
              "      background-color: #434B5C;\n",
              "      box-shadow: 0px 1px 3px 1px rgba(0, 0, 0, 0.15);\n",
              "      filter: drop-shadow(0px 1px 2px rgba(0, 0, 0, 0.3));\n",
              "      fill: #FFFFFF;\n",
              "    }\n",
              "  </style>\n",
              "\n",
              "      <script>\n",
              "        const buttonEl =\n",
              "          document.querySelector('#df-029a2121-7277-4f6c-8172-3d76441623f0 button.colab-df-convert');\n",
              "        buttonEl.style.display =\n",
              "          google.colab.kernel.accessAllowed ? 'block' : 'none';\n",
              "\n",
              "        async function convertToInteractive(key) {\n",
              "          const element = document.querySelector('#df-029a2121-7277-4f6c-8172-3d76441623f0');\n",
              "          const dataTable =\n",
              "            await google.colab.kernel.invokeFunction('convertToInteractive',\n",
              "                                                     [key], {});\n",
              "          if (!dataTable) return;\n",
              "\n",
              "          const docLinkHtml = 'Like what you see? Visit the ' +\n",
              "            '<a target=\"_blank\" href=https://colab.research.google.com/notebooks/data_table.ipynb>data table notebook</a>'\n",
              "            + ' to learn more about interactive tables.';\n",
              "          element.innerHTML = '';\n",
              "          dataTable['output_type'] = 'display_data';\n",
              "          await google.colab.output.renderOutput(dataTable, element);\n",
              "          const docLink = document.createElement('div');\n",
              "          docLink.innerHTML = docLinkHtml;\n",
              "          element.appendChild(docLink);\n",
              "        }\n",
              "      </script>\n",
              "    </div>\n",
              "  </div>\n",
              "  "
            ]
          },
          "metadata": {},
          "execution_count": 300
        }
      ]
    },
    {
      "cell_type": "markdown",
      "metadata": {
        "id": "iku6kfSDyngB"
      },
      "source": []
    },
    {
      "cell_type": "code",
      "execution_count": null,
      "metadata": {
        "id": "SPMVtUBR0fk6"
      },
      "outputs": [],
      "source": [
        "import numpy as np\n",
        "import pandas as pd\n",
        "from sklearn.metrics import mean_absolute_error, mean_squared_error\n",
        "from sklearn.linear_model import LinearRegression\n",
        "from keras.models import Sequential\n",
        "from keras.layers import LSTM, Dense\n",
        "from matplotlib import pyplot as plt\n",
        "\n",
        "# Create train data set\n",
        "train_split_date = '2014-12-31'\n",
        "x_train_close = df.loc[df['datetime'] <= train_split_date]['adj.close']\n",
        "\n",
        "# Create test data set\n",
        "test_split_date = '2016-12-30'\n",
        "x_test_close = df.loc[df['datetime'] >= test_split_date]['adj.close']\n",
        "\n",
        "# Create valid data set\n",
        "x_valid_close = df.loc[(df['datetime'] < test_split_date) & (df['datetime'] > train_split_date)]['adj.close']\n"
      ]
    },
    {
      "cell_type": "code",
      "source": [
        "import pickle\n",
        "with open('/content/drive/MyDrive/Colab Notebooks/Special_Subject_Rafailidis/Special sub/pickle_files/x_test_close.pickle', 'wb') as handle:\n",
        "    pickle.dump(x_test_close, handle)"
      ],
      "metadata": {
        "id": "4cwhmfxaLSEe"
      },
      "execution_count": null,
      "outputs": []
    },
    {
      "cell_type": "code",
      "execution_count": null,
      "metadata": {
        "colab": {
          "base_uri": "https://localhost:8080/",
          "height": 610
        },
        "id": "yt7yxGjS0itC",
        "outputId": "f7d51128-70df-4266-f6db-2e0119830213"
      },
      "outputs": [
        {
          "data": {
            "image/png": "[encoded data removed]",
            "text/plain": [
              "<Figure size 720x720 with 1 Axes>"
            ]
          },
          "metadata": {},
          "output_type": "display_data"
        }
      ],
      "source": [
        "plt.plot(x_train_close, label='x_train', color='blue')\n",
        "plt.plot(x_test_close, label='x_test', color='green')\n",
        "plt.plot(x_valid_close, label='x_valid', color='red')\n",
        "plt.ylabel(\"Adj.Close\")\n",
        "plt.title(\"CSI-300\")\n",
        "plt.legend()\n",
        "plt.show()\n",
        "\n"
      ]
    },
    {
      "cell_type": "code",
      "execution_count": null,
      "metadata": {
        "id": "yYmJsEoY0Aws"
      },
      "outputs": [],
      "source": [
        "import numpy as np\n",
        "import pandas as pd\n",
        "from sklearn.metrics import mean_absolute_error, mean_squared_error\n",
        "from sklearn.linear_model import LinearRegression\n",
        "from keras.models import Sequential\n",
        "from keras.layers import LSTM, Dense\n",
        "from matplotlib import pyplot as plt\n",
        "\n",
        "# Create train data set\n",
        "train_split_date = '2014-12-31'\n",
        "x_train_return = df.loc[df['datetime'] <= train_split_date]['return_ratio_0']\n",
        "\n",
        "# Create test data set\n",
        "test_split_date = '2016-12-30'\n",
        "x_test_return = df.loc[df['datetime'] >= test_split_date]['return_ratio_0']\n",
        "\n",
        "# Create valid data set\n",
        "x_valid_return = df.loc[(df['datetime'] < test_split_date) & (df['datetime'] > train_split_date)]['return_ratio_0']"
      ]
    },
    {
      "cell_type": "code",
      "execution_count": null,
      "metadata": {
        "colab": {
          "base_uri": "https://localhost:8080/",
          "height": 610
        },
        "id": "foLFlQKM0QiT",
        "outputId": "a296f034-2373-4402-d145-d7fb82ba435f"
      },
      "outputs": [
        {
          "output_type": "display_data",
          "data": {
            "text/plain": [
              "<Figure size 720x720 with 1 Axes>"
            ],
            "image/png": "[encoded data removed]"
          },
          "metadata": {}
        }
      ],
      "source": [
        "plt.plot(x_train_return, label='x_train', color='blue')\n",
        "plt.plot(x_test_return, label='x_test', color='green')\n",
        "plt.plot(x_valid_return, label='x_valid', color='red')\n",
        "plt.title(\"CSI-300\")\n",
        "plt.ylabel(\"Return_ratio\")\n",
        "plt.legend()\n",
        "plt.show()"
      ]
    },
    {
      "cell_type": "code",
      "execution_count": null,
      "metadata": {
        "id": "5e9ez3cy0_a8"
      },
      "outputs": [],
      "source": [
        "import numpy as np\n",
        "import pandas as pd\n",
        "from sklearn.metrics import mean_absolute_error, mean_squared_error\n",
        "from sklearn.linear_model import LinearRegression\n",
        "from keras.models import Sequential\n",
        "from keras.layers import LSTM, Dense\n",
        "from matplotlib import pyplot as plt\n",
        "\n",
        "# Create train data set\n",
        "train_split_date = '2014-12-31'\n",
        "x_train_cum = df.loc[df['datetime'] <= train_split_date]['cum_return']\n",
        "\n",
        "# Create test data set\n",
        "test_split_date = '2016-12-30'\n",
        "x_test_cum = df.loc[df['datetime'] >= test_split_date]['cum_return']\n",
        "\n",
        "# Create valid data set\n",
        "x_valid_cum = df.loc[(df['datetime'] < test_split_date) & (df['datetime'] > train_split_date)]['cum_return']"
      ]
    },
    {
      "cell_type": "code",
      "execution_count": null,
      "metadata": {
        "colab": {
          "base_uri": "https://localhost:8080/",
          "height": 610
        },
        "id": "rpCnslF21J1y",
        "outputId": "78696811-4c00-486c-b7d6-65a9683ae236"
      },
      "outputs": [
        {
          "data": {
            "image/png": "[encoded data removed]",
            "text/plain": [
              "<Figure size 720x720 with 1 Axes>"
            ]
          },
          "metadata": {},
          "output_type": "display_data"
        }
      ],
      "source": [
        "plt.plot(x_train_cum, label='x_train', color='blue')\n",
        "plt.plot(x_test_cum, label='x_test', color='green')\n",
        "plt.plot(x_valid_cum, label='x_valid', color='red')\n",
        "plt.title(\"CSI-300\")\n",
        "plt.ylabel(\"Cumulative Returns\")\n",
        "plt.legend()\n",
        "plt.show()"
      ]
    },
    {
      "cell_type": "code",
      "execution_count": null,
      "metadata": {
        "id": "a19Bq12uGIaf"
      },
      "outputs": [],
      "source": [
        "df['datetime'] = pd.to_datetime(df['datetime'])\n",
        "df.set_index(['datetime'], inplace = True)"
      ]
    },
    {
      "cell_type": "code",
      "execution_count": null,
      "metadata": {
        "colab": {
          "base_uri": "https://localhost:8080/",
          "height": 143
        },
        "id": "i-NoYsli7d4k",
        "outputId": "081c40ea-88cc-4a95-d799-94da164b2eea"
      },
      "outputs": [
        {
          "output_type": "execute_result",
          "data": {
            "text/plain": [
              "              close     open     high      low  volume  pct_change  \\\n",
              "datetime                                                             \n",
              "2007-01-02  2395.17  2350.60  2410.42  2310.57   65.08        0.41   \n",
              "2007-01-03  2473.54  2550.26  2550.33  2439.50   82.16       -2.79   \n",
              "\n",
              "              adj.close  return_ratio         vwap  return_ratio_0  \n",
              "datetime                                                            \n",
              "2007-01-02  2404.990119      0.000000  2395.170000        0.018258  \n",
              "2007-01-03  2404.528272     -0.000192  2438.900503        0.251255  "
            ],
            "text/html": [
              "\n",
              "  <div id=\"df-f010ea59-c66b-452f-a376-e5c0b59b2213\">\n",
              "    <div class=\"colab-df-container\">\n",
              "      <div>\n",
              "<style scoped>\n",
              "    .dataframe tbody tr th:only-of-type {\n",
              "        vertical-align: middle;\n",
              "    }\n",
              "\n",
              "    .dataframe tbody tr th {\n",
              "        vertical-align: top;\n",
              "    }\n",
              "\n",
              "    .dataframe thead th {\n",
              "        text-align: right;\n",
              "    }\n",
              "</style>\n",
              "<table border=\"1\" class=\"dataframe\">\n",
              "  <thead>\n",
              "    <tr style=\"text-align: right;\">\n",
              "      <th></th>\n",
              "      <th>close</th>\n",
              "      <th>open</th>\n",
              "      <th>high</th>\n",
              "      <th>low</th>\n",
              "      <th>volume</th>\n",
              "      <th>pct_change</th>\n",
              "      <th>adj.close</th>\n",
              "      <th>return_ratio</th>\n",
              "      <th>vwap</th>\n",
              "      <th>return_ratio_0</th>\n",
              "    </tr>\n",
              "    <tr>\n",
              "      <th>datetime</th>\n",
              "      <th></th>\n",
              "      <th></th>\n",
              "      <th></th>\n",
              "      <th></th>\n",
              "      <th></th>\n",
              "      <th></th>\n",
              "      <th></th>\n",
              "      <th></th>\n",
              "      <th></th>\n",
              "      <th></th>\n",
              "    </tr>\n",
              "  </thead>\n",
              "  <tbody>\n",
              "    <tr>\n",
              "      <th>2007-01-02</th>\n",
              "      <td>2395.17</td>\n",
              "      <td>2350.60</td>\n",
              "      <td>2410.42</td>\n",
              "      <td>2310.57</td>\n",
              "      <td>65.08</td>\n",
              "      <td>0.41</td>\n",
              "      <td>2404.990119</td>\n",
              "      <td>0.000000</td>\n",
              "      <td>2395.170000</td>\n",
              "      <td>0.018258</td>\n",
              "    </tr>\n",
              "    <tr>\n",
              "      <th>2007-01-03</th>\n",
              "      <td>2473.54</td>\n",
              "      <td>2550.26</td>\n",
              "      <td>2550.33</td>\n",
              "      <td>2439.50</td>\n",
              "      <td>82.16</td>\n",
              "      <td>-2.79</td>\n",
              "      <td>2404.528272</td>\n",
              "      <td>-0.000192</td>\n",
              "      <td>2438.900503</td>\n",
              "      <td>0.251255</td>\n",
              "    </tr>\n",
              "  </tbody>\n",
              "</table>\n",
              "</div>\n",
              "      <button class=\"colab-df-convert\" onclick=\"convertToInteractive('df-f010ea59-c66b-452f-a376-e5c0b59b2213')\"\n",
              "              title=\"Convert this dataframe to an interactive table.\"\n",
              "              style=\"display:none;\">\n",
              "        \n",
              "  <svg xmlns=\"http://www.w3.org/2000/svg\" height=\"24px\"viewBox=\"0 0 24 24\"\n",
              "       width=\"24px\">\n",
              "    <path d=\"M0 0h24v24H0V0z\" fill=\"none\"/>\n",
              "    <path d=\"M18.56 5.44l.94 2.06.94-2.06 2.06-.94-2.06-.94-.94-2.06-.94 2.06-2.06.94zm-11 1L8.5 8.5l.94-2.06 2.06-.94-2.06-.94L8.5 2.5l-.94 2.06-2.06.94zm10 10l.94 2.06.94-2.06 2.06-.94-2.06-.94-.94-2.06-.94 2.06-2.06.94z\"/><path d=\"M17.41 7.96l-1.37-1.37c-.4-.4-.92-.59-1.43-.59-.52 0-1.04.2-1.43.59L10.3 9.45l-7.72 7.72c-.78.78-.78 2.05 0 2.83L4 21.41c.39.39.9.59 1.41.59.51 0 1.02-.2 1.41-.59l7.78-7.78 2.81-2.81c.8-.78.8-2.07 0-2.86zM5.41 20L4 18.59l7.72-7.72 1.47 1.35L5.41 20z\"/>\n",
              "  </svg>\n",
              "      </button>\n",
              "      \n",
              "  <style>\n",
              "    .colab-df-container {\n",
              "      display:flex;\n",
              "      flex-wrap:wrap;\n",
              "      gap: 12px;\n",
              "    }\n",
              "\n",
              "    .colab-df-convert {\n",
              "      background-color: #E8F0FE;\n",
              "      border: none;\n",
              "      border-radius: 50%;\n",
              "      cursor: pointer;\n",
              "      display: none;\n",
              "      fill: #1967D2;\n",
              "      height: 32px;\n",
              "      padding: 0 0 0 0;\n",
              "      width: 32px;\n",
              "    }\n",
              "\n",
              "    .colab-df-convert:hover {\n",
              "      background-color: #E2EBFA;\n",
              "      box-shadow: 0px 1px 2px rgba(60, 64, 67, 0.3), 0px 1px 3px 1px rgba(60, 64, 67, 0.15);\n",
              "      fill: #174EA6;\n",
              "    }\n",
              "\n",
              "    [theme=dark] .colab-df-convert {\n",
              "      background-color: #3B4455;\n",
              "      fill: #D2E3FC;\n",
              "    }\n",
              "\n",
              "    [theme=dark] .colab-df-convert:hover {\n",
              "      background-color: #434B5C;\n",
              "      box-shadow: 0px 1px 3px 1px rgba(0, 0, 0, 0.15);\n",
              "      filter: drop-shadow(0px 1px 2px rgba(0, 0, 0, 0.3));\n",
              "      fill: #FFFFFF;\n",
              "    }\n",
              "  </style>\n",
              "\n",
              "      <script>\n",
              "        const buttonEl =\n",
              "          document.querySelector('#df-f010ea59-c66b-452f-a376-e5c0b59b2213 button.colab-df-convert');\n",
              "        buttonEl.style.display =\n",
              "          google.colab.kernel.accessAllowed ? 'block' : 'none';\n",
              "\n",
              "        async function convertToInteractive(key) {\n",
              "          const element = document.querySelector('#df-f010ea59-c66b-452f-a376-e5c0b59b2213');\n",
              "          const dataTable =\n",
              "            await google.colab.kernel.invokeFunction('convertToInteractive',\n",
              "                                                     [key], {});\n",
              "          if (!dataTable) return;\n",
              "\n",
              "          const docLinkHtml = 'Like what you see? Visit the ' +\n",
              "            '<a target=\"_blank\" href=https://colab.research.google.com/notebooks/data_table.ipynb>data table notebook</a>'\n",
              "            + ' to learn more about interactive tables.';\n",
              "          element.innerHTML = '';\n",
              "          dataTable['output_type'] = 'display_data';\n",
              "          await google.colab.output.renderOutput(dataTable, element);\n",
              "          const docLink = document.createElement('div');\n",
              "          docLink.innerHTML = docLinkHtml;\n",
              "          element.appendChild(docLink);\n",
              "        }\n",
              "      </script>\n",
              "    </div>\n",
              "  </div>\n",
              "  "
            ]
          },
          "metadata": {},
          "execution_count": 22
        }
      ],
      "source": [
        "df.head(2)"
      ]
    },
    {
      "cell_type": "markdown",
      "metadata": {
        "id": "2J4hQbRaKR60"
      },
      "source": [
        "* Monthly Frequency"
      ]
    },
    {
      "cell_type": "code",
      "execution_count": null,
      "metadata": {
        "id": "KnDeT3TVI2Ov"
      },
      "outputs": [],
      "source": [
        "x_train = df.loc[df.index <= train_split_date]['adj.close']\n",
        "x_train_monthly = x_train.resample('M').mean()\n",
        "\n",
        "x_test = df.loc[df.index >= test_split_date]['adj.close']\n",
        "x_test_monthly = x_test.resample('M').mean()\n",
        "\n",
        "x_valid = df.loc[(df.index > train_split_date) & (df.index < test_split_date)]['adj.close']\n",
        "x_valid_monthly = x_valid.resample('M').mean()"
      ]
    },
    {
      "cell_type": "code",
      "execution_count": null,
      "metadata": {
        "colab": {
          "base_uri": "https://localhost:8080/",
          "height": 627
        },
        "id": "ir0UlczKekBW",
        "outputId": "0bea28ea-a94a-4ca8-f93d-ac9db952c51e"
      },
      "outputs": [
        {
          "data": {
            "image/png": "[encoded data removed]",
            "text/plain": [
              "<Figure size 720x720 with 1 Axes>"
            ]
          },
          "metadata": {},
          "output_type": "display_data"
        }
      ],
      "source": [
        "plt.plot(x_train_monthly, label='x_train', color='blue')\n",
        "plt.plot(x_test_monthly, label='x_test', color='green')\n",
        "plt.plot(x_valid_monthly, label='x_valid', color='red')\n",
        "plt.title(\"CSI-300\")\n",
        "plt.xlabel(\"Datetime\")\n",
        "plt.ylabel(\"Adj.close\")\n",
        "plt.legend()\n",
        "plt.show()\n"
      ]
    },
    {
      "cell_type": "code",
      "execution_count": null,
      "metadata": {
        "id": "u9GdqKzWWhvW"
      },
      "outputs": [],
      "source": [
        "x_train_ret = df.loc[df.index <= train_split_date]['return_ratio_0']\n",
        "x_train_monthly_ret = x_train_ret.resample('M').mean()\n",
        "\n",
        "x_test_ret = df.loc[df.index >= test_split_date]['return_ratio_0']\n",
        "x_test_monthly_ret = x_test_ret.resample('M').mean()\n",
        "\n",
        "x_valid_ret = df.loc[(df.index > train_split_date) & (df.index < test_split_date)]['return_ratio_0']\n",
        "x_valid_monthly_ret = x_valid_ret.resample('M').mean()"
      ]
    },
    {
      "cell_type": "code",
      "execution_count": null,
      "metadata": {
        "colab": {
          "base_uri": "https://localhost:8080/",
          "height": 627
        },
        "id": "jM-hWlrWW8-9",
        "outputId": "867eb49b-d70f-4c93-bbd8-dcedc0157ef3"
      },
      "outputs": [
        {
          "output_type": "display_data",
          "data": {
            "text/plain": [
              "<Figure size 720x720 with 1 Axes>"
            ],
            "image/png": "[encoded data removed]"
          },
          "metadata": {}
        }
      ],
      "source": [
        "plt.plot(x_train_monthly_ret, label='x_train', color='blue')\n",
        "plt.plot(x_test_monthly_ret, label='x_test', color='green')\n",
        "plt.plot(x_valid_monthly_ret, label='x_valid', color='red')\n",
        "plt.title(\"CSI-300\")\n",
        "plt.xlabel(\"Datetime\")\n",
        "plt.ylabel(\"Returns\")\n",
        "plt.legend()\n",
        "plt.show()"
      ]
    },
    {
      "cell_type": "code",
      "execution_count": null,
      "metadata": {
        "id": "hMfax68FYBeL"
      },
      "outputs": [],
      "source": [
        "df['cum_return'] = df.return_ratio_0.pct_change()"
      ]
    },
    {
      "cell_type": "code",
      "execution_count": null,
      "metadata": {
        "id": "VlOwFkNJX-6k"
      },
      "outputs": [],
      "source": [
        "x_train_cret = df.loc[df.index <= train_split_date]['cum_return']\n",
        "x_train_monthly_cret = x_train_cret.resample('M').mean()\n",
        "\n",
        "x_test_cret = df.loc[df.index >= test_split_date]['cum_return']\n",
        "x_test_monthly_cret = x_test_cret.resample('M').mean()\n",
        "\n",
        "x_valid_cret = df.loc[(df.index > train_split_date) & (df.index < test_split_date)]['cum_return']\n",
        "x_valid_monthly_cret = x_valid_cret.resample('M').mean()"
      ]
    },
    {
      "cell_type": "code",
      "execution_count": null,
      "metadata": {
        "colab": {
          "base_uri": "https://localhost:8080/",
          "height": 627
        },
        "id": "LtTIKZodYAe7",
        "outputId": "9e5fb292-73ea-47a5-d78e-ff175629068d"
      },
      "outputs": [
        {
          "output_type": "display_data",
          "data": {
            "text/plain": [
              "<Figure size 720x720 with 1 Axes>"
            ],
            "image/png": "[encoded data removed]"
          },
          "metadata": {}
        }
      ],
      "source": [
        "plt.plot(x_train_monthly_cret, label='x_train', color='blue')\n",
        "plt.plot(x_test_monthly_cret, label='x_test', color='green')\n",
        "plt.plot(x_valid_monthly_cret, label='x_valid', color='red')\n",
        "plt.title(\"CSI-300\")\n",
        "plt.xlabel(\"Datetime\")\n",
        "plt.ylabel(\"Cumlative Returns\")\n",
        "plt.legend()\n",
        "plt.show()"
      ]
    },
    {
      "cell_type": "code",
      "execution_count": null,
      "metadata": {
        "colab": {
          "base_uri": "https://localhost:8080/"
        },
        "id": "xdwV1RKBXPOl",
        "outputId": "6403dd3e-b95d-4882-ac66-b9c5e037b13a"
      },
      "outputs": [
        {
          "data": {
            "text/plain": [
              "DatetimeIndex(['2016-12-31', '2017-01-31', '2017-02-28', '2017-03-31',\n",
              "               '2017-04-30', '2017-05-31', '2017-06-30', '2017-07-31',\n",
              "               '2017-08-31', '2017-09-30', '2017-10-31', '2017-11-30',\n",
              "               '2017-12-31', '2018-01-31', '2018-02-28', '2018-03-31',\n",
              "               '2018-04-30', '2018-05-31', '2018-06-30', '2018-07-31',\n",
              "               '2018-08-31', '2018-09-30', '2018-10-31', '2018-11-30',\n",
              "               '2018-12-31', '2019-01-31', '2019-02-28', '2019-03-31',\n",
              "               '2019-04-30', '2019-05-31', '2019-06-30', '2019-07-31',\n",
              "               '2019-08-31', '2019-09-30', '2019-10-31', '2019-11-30',\n",
              "               '2019-12-31'],\n",
              "              dtype='datetime64[ns]', name='datetime', freq='M')"
            ]
          },
          "execution_count": 19,
          "metadata": {},
          "output_type": "execute_result"
        }
      ],
      "source": [
        "x_test_monthly_ret.index"
      ]
    },
    {
      "cell_type": "code",
      "execution_count": null,
      "metadata": {
        "id": "1_hNMCx0GWIt"
      },
      "outputs": [],
      "source": [
        "import numpy as np\n",
        "import pandas as pd\n",
        "from sklearn.metrics import mean_absolute_error, mean_squared_error\n",
        "from sklearn.linear_model import LinearRegression\n",
        "from keras.models import Sequential\n",
        "from keras.layers import LSTM, Dense\n",
        "from matplotlib import pyplot as plt"
      ]
    },
    {
      "cell_type": "code",
      "execution_count": null,
      "metadata": {
        "colab": {
          "base_uri": "https://localhost:8080/"
        },
        "id": "3K3I-9qa1MHH",
        "outputId": "9ced4a74-261e-4cca-fd5e-0eeb56323575"
      },
      "outputs": [
        {
          "data": {
            "text/plain": [
              "DatetimeIndex(['2007-01-02', '2007-01-03', '2007-01-06', '2007-01-08',\n",
              "               '2007-01-11', '2007-01-15', '2007-01-16', '2007-01-17',\n",
              "               '2007-01-18', '2007-01-19',\n",
              "               ...\n",
              "               '2014-12-18', '2014-12-19', '2014-12-22', '2014-12-23',\n",
              "               '2014-12-24', '2014-12-25', '2014-12-26', '2014-12-29',\n",
              "               '2014-12-30', '2014-12-31'],\n",
              "              dtype='datetime64[ns]', name='datetime', length=1946, freq=None)"
            ]
          },
          "execution_count": 25,
          "metadata": {},
          "output_type": "execute_result"
        }
      ],
      "source": [
        "x_train.index"
      ]
    },
    {
      "cell_type": "code",
      "execution_count": null,
      "metadata": {
        "colab": {
          "base_uri": "https://localhost:8080/"
        },
        "id": "isycC7t6eRbw",
        "outputId": "3f95a5c4-d242-46dd-f1dd-29af8808f324"
      },
      "outputs": [
        {
          "data": {
            "text/plain": [
              "(1946,)"
            ]
          },
          "execution_count": 26,
          "metadata": {},
          "output_type": "execute_result"
        }
      ],
      "source": [
        "x_train_close.shape"
      ]
    },
    {
      "cell_type": "code",
      "execution_count": null,
      "metadata": {
        "colab": {
          "base_uri": "https://localhost:8080/"
        },
        "id": "Rt2XHv80eUPf",
        "outputId": "1eae7e75-1adc-4e0f-db41-f2274b90f3e1"
      },
      "outputs": [
        {
          "data": {
            "text/plain": [
              "(732,)"
            ]
          },
          "execution_count": 19,
          "metadata": {},
          "output_type": "execute_result"
        }
      ],
      "source": [
        "x_test_close.shape"
      ]
    },
    {
      "cell_type": "code",
      "execution_count": null,
      "metadata": {
        "colab": {
          "base_uri": "https://localhost:8080/"
        },
        "id": "X7Lg7uX71NKz",
        "outputId": "8ed224f2-da61-446a-84c2-e017387c4fe6"
      },
      "outputs": [
        {
          "data": {
            "text/plain": [
              "(487,)"
            ]
          },
          "execution_count": 22,
          "metadata": {},
          "output_type": "execute_result"
        }
      ],
      "source": [
        "x_valid_close.shape"
      ]
    },
    {
      "cell_type": "markdown",
      "metadata": {
        "id": "Vj0Ag9vs2u-w"
      },
      "source": [
        "#Data normalization with Z-Score."
      ]
    },
    {
      "cell_type": "code",
      "execution_count": null,
      "metadata": {
        "id": "IOKhM2p821J3"
      },
      "outputs": [],
      "source": [
        "from sklearn.preprocessing import StandardScaler\n",
        "\n",
        "scaler = StandardScaler()\n",
        "x_train_scaled = scaler.fit_transform(x_train_close.values.reshape(-1, 1))\n",
        "x_valid_scaled = scaler.transform(x_valid_close.values.reshape(-1, 1))\n",
        "x_test_scaled = scaler.transform(x_test_close.values.reshape(-1, 1))"
      ]
    },
    {
      "cell_type": "markdown",
      "metadata": {
        "id": "-e9qceEX3Zmn"
      },
      "source": [
        "#Sliding Window Creation"
      ]
    },
    {
      "cell_type": "code",
      "execution_count": null,
      "metadata": {
        "id": "YzK7wyL13dne"
      },
      "outputs": [],
      "source": [
        "n_past = 20\n",
        "x_train_scaled_windowed, y_train_scaled_windowed = createXY(x_train_scaled,n_past)\n",
        "x_valid_scaled_windowed, y_valid_scaled_windowed = createXY(x_valid_scaled,n_past)\n",
        "x_test_scaled_windowed, y_test_windowed_scaled = createXY(x_test_scaled,n_past)"
      ]
    },
    {
      "cell_type": "code",
      "execution_count": null,
      "metadata": {
        "colab": {
          "base_uri": "https://localhost:8080/"
        },
        "id": "eCyhO_2H3-Le",
        "outputId": "7f7e660d-5501-4619-89e0-3676d73a5042"
      },
      "outputs": [
        {
          "output_type": "execute_result",
          "data": {
            "text/plain": [
              "(1926, 20, 1)"
            ]
          },
          "metadata": {},
          "execution_count": 310
        }
      ],
      "source": [
        "x_train_scaled_windowed.shape"
      ]
    },
    {
      "cell_type": "code",
      "execution_count": null,
      "metadata": {
        "colab": {
          "base_uri": "https://localhost:8080/"
        },
        "id": "UdpGmjLK4BqH",
        "outputId": "6e1016fa-8c43-411e-89e1-14d2c7eb29c0"
      },
      "outputs": [
        {
          "output_type": "execute_result",
          "data": {
            "text/plain": [
              "(1926,)"
            ]
          },
          "metadata": {},
          "execution_count": 311
        }
      ],
      "source": [
        "y_train_scaled_windowed.shape"
      ]
    },
    {
      "cell_type": "code",
      "execution_count": null,
      "metadata": {
        "colab": {
          "base_uri": "https://localhost:8080/"
        },
        "id": "n_tfi9xLt5Hw",
        "outputId": "5bb9eb8b-29a2-4abf-ef71-8c3db1b59382"
      },
      "outputs": [
        {
          "output_type": "execute_result",
          "data": {
            "text/plain": [
              "(467, 20, 1)"
            ]
          },
          "metadata": {},
          "execution_count": 312
        }
      ],
      "source": [
        "x_valid_scaled_windowed.shape"
      ]
    },
    {
      "cell_type": "code",
      "execution_count": null,
      "metadata": {
        "id": "1bhSENpH1S6S"
      },
      "outputs": [],
      "source": [
        "# Creation of a dictionary to store the models and their performance metrics\n",
        "models = {'ALSTM': None, 'ADV-LSTM': None, 'Coarse-Grained RNN': None, \n",
        "          'Fine-Grained RNN': None, 'Linear Regression': None, 'Transformer': None}\n",
        "metrics = {'MAE': [], 'RMSE': []}\n"
      ]
    },
    {
      "cell_type": "code",
      "execution_count": null,
      "metadata": {
        "colab": {
          "base_uri": "https://localhost:8080/"
        },
        "id": "3gT0RSzAv2G4",
        "outputId": "a49bb869-0204-45ad-d311-14ac1c375eba"
      },
      "outputs": [
        {
          "output_type": "stream",
          "name": "stderr",
          "text": [
            "WARNING:tensorflow:Model was constructed with shape (None, 20, 1) for input KerasTensor(type_spec=TensorSpec(shape=(None, 20, 1), dtype=tf.float32, name='input_2'), name='input_2', description=\"created by layer 'input_2'\"), but it was called on an input with incompatible shape (None, 1, 1).\n"
          ]
        },
        {
          "output_type": "stream",
          "name": "stdout",
          "text": [
            "23/23 [==============================] - 1s 5ms/step\n"
          ]
        }
      ],
      "source": [
        "## ALSTM\n",
        "# Import required libraries\n",
        "from keras.layers import Input, LSTM, Dense, Attention, concatenate,Dropout\n",
        "from keras.models import Model\n",
        "\n",
        "# Define the input shape for the LSTM\n",
        "input_shape = (20, 1)\n",
        "\n",
        "# Create the input layer for the model with the defined input shape\n",
        "inputs = Input(shape=input_shape)\n",
        "\n",
        "# Create the LSTM layer with 300 units and return sequences\n",
        "lstm_out = LSTM(300, return_sequences=True)(inputs)\n",
        "\n",
        "# Add a dropout layer with dropout rate of 0.2\n",
        "dropout_1 = Dropout(0.2)(lstm_out)\n",
        "\n",
        "# Create another LSTM layer with 200 units and return sequences\n",
        "lstm_out_2 = LSTM(200, return_sequences=True)(dropout_1)\n",
        "\n",
        "# Add a dropout layer with dropout rate of 0.2\n",
        "dropout_2 = Dropout(0.2)(lstm_out_2)\n",
        "\n",
        "# Create the Attention layer with default parameters\n",
        "attention = Attention()([dropout_2, dropout_2])\n",
        "\n",
        "# Add a dense layer with 1 unit\n",
        "outputs = Dense(1)(attention)\n",
        "\n",
        "# Create the model with the input and output layers\n",
        "alstm = Model(inputs=inputs, outputs=outputs)\n",
        "\n",
        "# compile the model\n",
        "alstm.compile(optimizer='adam', loss='mean_squared_error')\n",
        "\n",
        "alstm.fit(x_train_scaled_windowed, y_train_scaled_windowed, epochs=50, batch_size=300, verbose=0, validation_data=(x_valid_scaled_windowed, y_valid_scaled_windowed))\n",
        "predictions_alstm = alstm.predict(x_test_scaled)\n",
        "predictions_alstm = scaler.inverse_transform(predictions_alstm.reshape(-1,1))"
      ]
    },
    {
      "cell_type": "code",
      "execution_count": null,
      "metadata": {
        "id": "ZU6A61UJ6JpQ"
      },
      "outputs": [],
      "source": [
        "import pickle\n",
        "with open('/content/drive/MyDrive/Colab Notebooks/Special_Subject_Rafailidis/Special sub/pickle_files/predictions_alstm.pickle', 'wb') as handle:\n",
        "    pickle.dump(predictions_alstm, handle)\n"
      ]
    },
    {
      "cell_type": "code",
      "execution_count": null,
      "metadata": {
        "id": "LblcuJC5vhH2"
      },
      "outputs": [],
      "source": []
    },
    {
      "cell_type": "code",
      "execution_count": null,
      "metadata": {
        "id": "D97KEyM797mC"
      },
      "outputs": [],
      "source": [
        "from posixpath import split\n",
        "from sklearn.model_selection import train_test_split\n",
        "x_train_scaled_lr, y_train_scaled_lr = train_test_split(x_train_scaled, test_size = 0.5)"
      ]
    },
    {
      "cell_type": "code",
      "execution_count": null,
      "metadata": {
        "colab": {
          "base_uri": "https://localhost:8080/"
        },
        "id": "eppltubzB3v6",
        "outputId": "b65f1a0b-36c8-4f9e-89c3-6cf7b0eab5a7"
      },
      "outputs": [
        {
          "name": "stdout",
          "output_type": "stream",
          "text": [
            "Epoch 1/50\n",
            "61/61 [==============================] - 3s 9ms/step - loss: 0.5010\n",
            "Epoch 2/50\n",
            "61/61 [==============================] - 1s 9ms/step - loss: 0.3867\n",
            "Epoch 3/50\n",
            "61/61 [==============================] - 1s 9ms/step - loss: 0.3596\n",
            "Epoch 4/50\n",
            "61/61 [==============================] - 1s 9ms/step - loss: 0.3378\n",
            "Epoch 5/50\n",
            "61/61 [==============================] - 1s 9ms/step - loss: 0.3204\n",
            "Epoch 6/50\n",
            "61/61 [==============================] - 1s 10ms/step - loss: 0.3028\n",
            "Epoch 7/50\n",
            "61/61 [==============================] - 1s 9ms/step - loss: 0.2856\n",
            "Epoch 8/50\n",
            "61/61 [==============================] - 1s 9ms/step - loss: 0.2708\n",
            "Epoch 9/50\n",
            "61/61 [==============================] - 1s 9ms/step - loss: 0.2586\n",
            "Epoch 10/50\n",
            "61/61 [==============================] - 1s 9ms/step - loss: 0.2476\n",
            "Epoch 11/50\n",
            "61/61 [==============================] - 1s 9ms/step - loss: 0.2405\n",
            "Epoch 12/50\n",
            "61/61 [==============================] - 1s 9ms/step - loss: 0.2323\n",
            "Epoch 13/50\n",
            "61/61 [==============================] - 1s 9ms/step - loss: 0.2277\n",
            "Epoch 14/50\n",
            "61/61 [==============================] - 1s 9ms/step - loss: 0.2280\n",
            "Epoch 15/50\n",
            "61/61 [==============================] - 1s 9ms/step - loss: 0.2259\n",
            "Epoch 16/50\n",
            "61/61 [==============================] - 1s 9ms/step - loss: 0.2226\n",
            "Epoch 17/50\n",
            "61/61 [==============================] - 1s 9ms/step - loss: 0.2202\n",
            "Epoch 18/50\n",
            "61/61 [==============================] - 1s 9ms/step - loss: 0.2194\n",
            "Epoch 19/50\n",
            "61/61 [==============================] - 1s 9ms/step - loss: 0.2217\n",
            "Epoch 20/50\n",
            "61/61 [==============================] - 1s 9ms/step - loss: 0.2168\n",
            "Epoch 21/50\n",
            "61/61 [==============================] - 1s 9ms/step - loss: 0.2171\n",
            "Epoch 22/50\n",
            "61/61 [==============================] - 1s 9ms/step - loss: 0.2157\n",
            "Epoch 23/50\n",
            "61/61 [==============================] - 1s 9ms/step - loss: 0.2159\n",
            "Epoch 24/50\n",
            "61/61 [==============================] - 1s 9ms/step - loss: 0.2118\n",
            "Epoch 25/50\n",
            "61/61 [==============================] - 1s 9ms/step - loss: 0.2142\n",
            "Epoch 26/50\n",
            "61/61 [==============================] - 1s 9ms/step - loss: 0.2130\n",
            "Epoch 27/50\n",
            "61/61 [==============================] - 1s 9ms/step - loss: 0.2119\n",
            "Epoch 28/50\n",
            "61/61 [==============================] - 1s 10ms/step - loss: 0.2147\n",
            "Epoch 29/50\n",
            "61/61 [==============================] - 1s 9ms/step - loss: 0.2110\n",
            "Epoch 30/50\n",
            "61/61 [==============================] - 1s 9ms/step - loss: 0.2100\n",
            "Epoch 31/50\n",
            "61/61 [==============================] - 1s 9ms/step - loss: 0.2108\n",
            "Epoch 32/50\n",
            "61/61 [==============================] - 1s 9ms/step - loss: 0.2114\n",
            "Epoch 33/50\n",
            "61/61 [==============================] - 1s 9ms/step - loss: 0.2107\n",
            "Epoch 34/50\n",
            "61/61 [==============================] - 1s 9ms/step - loss: 0.2143\n",
            "Epoch 35/50\n",
            "61/61 [==============================] - 1s 9ms/step - loss: 0.2084\n",
            "Epoch 36/50\n",
            "61/61 [==============================] - 1s 9ms/step - loss: 0.2073\n",
            "Epoch 37/50\n",
            "61/61 [==============================] - 1s 9ms/step - loss: 0.2088\n",
            "Epoch 38/50\n",
            "61/61 [==============================] - 1s 9ms/step - loss: 0.2068\n",
            "Epoch 39/50\n",
            "61/61 [==============================] - 1s 9ms/step - loss: 0.2116\n",
            "Epoch 40/50\n",
            "61/61 [==============================] - 1s 11ms/step - loss: 0.2084\n",
            "Epoch 41/50\n",
            "61/61 [==============================] - 1s 9ms/step - loss: 0.2076\n",
            "Epoch 42/50\n",
            "61/61 [==============================] - 1s 9ms/step - loss: 0.2054\n",
            "Epoch 43/50\n",
            "61/61 [==============================] - 1s 9ms/step - loss: 0.2079\n",
            "Epoch 44/50\n",
            "61/61 [==============================] - 1s 9ms/step - loss: 0.2074\n",
            "Epoch 45/50\n",
            "61/61 [==============================] - 1s 9ms/step - loss: 0.2039\n",
            "Epoch 46/50\n",
            "61/61 [==============================] - 1s 9ms/step - loss: 0.2076\n",
            "Epoch 47/50\n",
            "61/61 [==============================] - 1s 9ms/step - loss: 0.2092\n",
            "Epoch 48/50\n",
            "61/61 [==============================] - 1s 9ms/step - loss: 0.2098\n",
            "Epoch 49/50\n",
            "61/61 [==============================] - 1s 9ms/step - loss: 0.2033\n",
            "Epoch 50/50\n",
            "61/61 [==============================] - 1s 9ms/step - loss: 0.2032\n",
            "Epoch 1/50\n",
            "61/61 [==============================] - 4s 16ms/step - loss: 0.4234\n",
            "Epoch 2/50\n",
            "61/61 [==============================] - 1s 13ms/step - loss: -0.3077\n",
            "Epoch 3/50\n",
            "61/61 [==============================] - 1s 13ms/step - loss: -1.0289\n",
            "Epoch 4/50\n",
            "61/61 [==============================] - 1s 18ms/step - loss: -1.4406\n",
            "Epoch 5/50\n",
            "61/61 [==============================] - 1s 17ms/step - loss: -1.7605\n",
            "Epoch 6/50\n",
            "61/61 [==============================] - 1s 16ms/step - loss: -2.0530\n",
            "Epoch 7/50\n",
            "61/61 [==============================] - 1s 10ms/step - loss: -2.3159\n",
            "Epoch 8/50\n",
            "61/61 [==============================] - 1s 9ms/step - loss: -2.5910\n",
            "Epoch 9/50\n",
            "61/61 [==============================] - 1s 9ms/step - loss: -2.8544\n",
            "Epoch 10/50\n",
            "61/61 [==============================] - 1s 9ms/step - loss: -3.1228\n",
            "Epoch 11/50\n",
            "61/61 [==============================] - 1s 9ms/step - loss: -3.3659\n",
            "Epoch 12/50\n",
            "61/61 [==============================] - 1s 9ms/step - loss: -3.6569\n",
            "Epoch 13/50\n",
            "61/61 [==============================] - 1s 9ms/step - loss: -3.9319\n",
            "Epoch 14/50\n",
            "61/61 [==============================] - 1s 9ms/step - loss: -4.2019\n",
            "Epoch 15/50\n",
            "61/61 [==============================] - 1s 9ms/step - loss: -4.4760\n",
            "Epoch 16/50\n",
            "61/61 [==============================] - 1s 9ms/step - loss: -4.7607\n",
            "Epoch 17/50\n",
            "61/61 [==============================] - 1s 9ms/step - loss: -5.0380\n",
            "Epoch 18/50\n",
            "61/61 [==============================] - 1s 9ms/step - loss: -5.3249\n",
            "Epoch 19/50\n",
            "61/61 [==============================] - 1s 9ms/step - loss: -5.6037\n",
            "Epoch 20/50\n",
            "61/61 [==============================] - 1s 9ms/step - loss: -5.8799\n",
            "Epoch 21/50\n",
            "61/61 [==============================] - 1s 9ms/step - loss: -6.1453\n",
            "Epoch 22/50\n",
            "61/61 [==============================] - 1s 9ms/step - loss: -6.4241\n",
            "Epoch 23/50\n",
            "61/61 [==============================] - 1s 9ms/step - loss: -6.6781\n",
            "Epoch 24/50\n",
            "61/61 [==============================] - 1s 8ms/step - loss: -6.9582\n",
            "Epoch 25/50\n",
            "61/61 [==============================] - 1s 9ms/step - loss: -7.1992\n",
            "Epoch 26/50\n",
            "61/61 [==============================] - 1s 9ms/step - loss: -7.4630\n",
            "Epoch 27/50\n",
            "61/61 [==============================] - 1s 9ms/step - loss: -7.7381\n",
            "Epoch 28/50\n",
            "61/61 [==============================] - 1s 9ms/step - loss: -7.9858\n",
            "Epoch 29/50\n",
            "61/61 [==============================] - 1s 9ms/step - loss: -8.2024\n",
            "Epoch 30/50\n",
            "61/61 [==============================] - 1s 9ms/step - loss: -8.4826\n",
            "Epoch 31/50\n",
            "61/61 [==============================] - 1s 9ms/step - loss: -8.7432\n",
            "Epoch 32/50\n",
            "61/61 [==============================] - 1s 9ms/step - loss: -8.9886\n",
            "Epoch 33/50\n",
            "61/61 [==============================] - 1s 9ms/step - loss: -9.2173\n",
            "Epoch 34/50\n",
            "61/61 [==============================] - 1s 9ms/step - loss: -9.4762\n",
            "Epoch 35/50\n",
            "61/61 [==============================] - 1s 9ms/step - loss: -9.7231\n",
            "Epoch 36/50\n",
            "61/61 [==============================] - 1s 9ms/step - loss: -9.9588\n",
            "Epoch 37/50\n",
            "61/61 [==============================] - 1s 9ms/step - loss: -10.2170\n",
            "Epoch 38/50\n",
            "61/61 [==============================] - 1s 9ms/step - loss: -10.4599\n",
            "Epoch 39/50\n",
            "61/61 [==============================] - 1s 9ms/step - loss: -10.7119\n",
            "Epoch 40/50\n",
            "61/61 [==============================] - 1s 9ms/step - loss: -10.9371\n",
            "Epoch 41/50\n",
            "61/61 [==============================] - 1s 9ms/step - loss: -11.1955\n",
            "Epoch 42/50\n",
            "61/61 [==============================] - 1s 9ms/step - loss: -11.4446\n",
            "Epoch 43/50\n",
            "61/61 [==============================] - 1s 9ms/step - loss: -11.6506\n",
            "Epoch 44/50\n",
            "61/61 [==============================] - 1s 10ms/step - loss: -11.9366\n",
            "Epoch 45/50\n",
            "61/61 [==============================] - 1s 9ms/step - loss: -12.1848\n",
            "Epoch 46/50\n",
            "61/61 [==============================] - 1s 9ms/step - loss: -12.4380\n",
            "Epoch 47/50\n",
            "61/61 [==============================] - 1s 10ms/step - loss: -12.6895\n",
            "Epoch 48/50\n",
            "61/61 [==============================] - 1s 10ms/step - loss: -12.9570\n",
            "Epoch 49/50\n",
            "61/61 [==============================] - 1s 9ms/step - loss: -13.2258\n",
            "Epoch 50/50\n",
            "61/61 [==============================] - 1s 9ms/step - loss: -13.4402\n"
          ]
        },
        {
          "name": "stderr",
          "output_type": "stream",
          "text": [
            "WARNING:tensorflow:Model was constructed with shape (None, 20, 1) for input KerasTensor(type_spec=TensorSpec(shape=(None, 20, 1), dtype=tf.float32, name='lstm_5_input'), name='lstm_5_input', description=\"created by layer 'lstm_5_input'\"), but it was called on an input with incompatible shape (None, 1, 1).\n"
          ]
        },
        {
          "name": "stdout",
          "output_type": "stream",
          "text": [
            "Epoch 1/50\n",
            "61/61 [==============================] - 3s 9ms/step - loss: 0.2001\n",
            "Epoch 2/50\n",
            "61/61 [==============================] - 1s 9ms/step - loss: 0.1999\n",
            "Epoch 3/50\n",
            "61/61 [==============================] - 1s 9ms/step - loss: 0.1994\n",
            "Epoch 4/50\n",
            "61/61 [==============================] - 1s 9ms/step - loss: 0.1993\n",
            "Epoch 5/50\n",
            "61/61 [==============================] - 1s 9ms/step - loss: 0.1995\n",
            "Epoch 6/50\n",
            "61/61 [==============================] - 1s 9ms/step - loss: 0.1986\n",
            "Epoch 7/50\n",
            "61/61 [==============================] - 1s 9ms/step - loss: 0.1994\n",
            "Epoch 8/50\n",
            "61/61 [==============================] - 1s 10ms/step - loss: 0.1992\n",
            "Epoch 9/50\n",
            "61/61 [==============================] - 1s 9ms/step - loss: 0.1984\n",
            "Epoch 10/50\n",
            "61/61 [==============================] - 1s 9ms/step - loss: 0.1985\n",
            "Epoch 11/50\n",
            "61/61 [==============================] - 1s 9ms/step - loss: 0.1981\n",
            "Epoch 12/50\n",
            "61/61 [==============================] - 1s 10ms/step - loss: 0.1979\n",
            "Epoch 13/50\n",
            "61/61 [==============================] - 1s 9ms/step - loss: 0.1977\n",
            "Epoch 14/50\n",
            "61/61 [==============================] - 1s 9ms/step - loss: 0.1977\n",
            "Epoch 15/50\n",
            "61/61 [==============================] - 1s 9ms/step - loss: 0.1974\n",
            "Epoch 16/50\n",
            "61/61 [==============================] - 1s 9ms/step - loss: 0.1973\n",
            "Epoch 17/50\n",
            "61/61 [==============================] - 1s 9ms/step - loss: 0.1971\n",
            "Epoch 18/50\n",
            "61/61 [==============================] - 1s 9ms/step - loss: 0.1970\n",
            "Epoch 19/50\n",
            "61/61 [==============================] - 1s 9ms/step - loss: 0.1968\n",
            "Epoch 20/50\n",
            "61/61 [==============================] - 1s 9ms/step - loss: 0.1965\n",
            "Epoch 21/50\n",
            "61/61 [==============================] - 1s 9ms/step - loss: 0.1958\n",
            "Epoch 22/50\n",
            "61/61 [==============================] - 1s 9ms/step - loss: 0.1954\n",
            "Epoch 23/50\n",
            "61/61 [==============================] - 1s 9ms/step - loss: 0.1962\n",
            "Epoch 24/50\n",
            "61/61 [==============================] - 1s 10ms/step - loss: 0.1971\n",
            "Epoch 25/50\n",
            "61/61 [==============================] - 1s 9ms/step - loss: 0.1951\n",
            "Epoch 26/50\n",
            "61/61 [==============================] - 1s 10ms/step - loss: 0.1957\n",
            "Epoch 27/50\n",
            "61/61 [==============================] - 1s 10ms/step - loss: 0.1951\n",
            "Epoch 28/50\n",
            "61/61 [==============================] - 1s 10ms/step - loss: 0.1952\n",
            "Epoch 29/50\n",
            "61/61 [==============================] - 1s 9ms/step - loss: 0.1939\n",
            "Epoch 30/50\n",
            "61/61 [==============================] - 1s 9ms/step - loss: 0.1947\n",
            "Epoch 31/50\n",
            "61/61 [==============================] - 1s 9ms/step - loss: 0.1943\n",
            "Epoch 32/50\n",
            "61/61 [==============================] - 1s 9ms/step - loss: 0.1938\n",
            "Epoch 33/50\n",
            "61/61 [==============================] - 1s 9ms/step - loss: 0.1945\n",
            "Epoch 34/50\n",
            "61/61 [==============================] - 1s 9ms/step - loss: 0.1942\n",
            "Epoch 35/50\n",
            "61/61 [==============================] - 1s 9ms/step - loss: 0.1941\n",
            "Epoch 36/50\n",
            "61/61 [==============================] - 1s 9ms/step - loss: 0.1938\n",
            "Epoch 37/50\n",
            "61/61 [==============================] - 1s 9ms/step - loss: 0.1938\n",
            "Epoch 38/50\n",
            "61/61 [==============================] - 1s 9ms/step - loss: 0.1930\n",
            "Epoch 39/50\n",
            "61/61 [==============================] - 1s 9ms/step - loss: 0.1934\n",
            "Epoch 40/50\n",
            "61/61 [==============================] - 1s 9ms/step - loss: 0.1930\n",
            "Epoch 41/50\n",
            "61/61 [==============================] - 1s 9ms/step - loss: 0.1944\n",
            "Epoch 42/50\n",
            "61/61 [==============================] - 1s 9ms/step - loss: 0.1924\n",
            "Epoch 43/50\n",
            "61/61 [==============================] - 1s 9ms/step - loss: 0.1928\n",
            "Epoch 44/50\n",
            "61/61 [==============================] - 1s 9ms/step - loss: 0.1913\n",
            "Epoch 45/50\n",
            "61/61 [==============================] - 1s 9ms/step - loss: 0.1931\n",
            "Epoch 46/50\n",
            "61/61 [==============================] - 1s 9ms/step - loss: 0.1919\n",
            "Epoch 47/50\n",
            "61/61 [==============================] - 1s 9ms/step - loss: 0.1923\n",
            "Epoch 48/50\n",
            "61/61 [==============================] - 1s 9ms/step - loss: 0.1917\n",
            "Epoch 49/50\n",
            "61/61 [==============================] - 1s 9ms/step - loss: 0.1917\n",
            "Epoch 50/50\n",
            "61/61 [==============================] - 1s 9ms/step - loss: 0.1915\n"
          ]
        },
        {
          "data": {
            "text/plain": [
              "<keras.callbacks.History at 0x7fb751b03f40>"
            ]
          },
          "execution_count": 44,
          "metadata": {},
          "output_type": "execute_result"
        }
      ],
      "source": [
        "# ADV-LSTM\n",
        "from keras.layers import Input, LSTM, Dense, Dropout\n",
        "from keras.models import Model\n",
        "from keras.optimizers import Adam\n",
        "\n",
        "# define the input shape\n",
        "input_shape = (20, 1)\n",
        "\n",
        "# define the generator model\n",
        "generator = Sequential()\n",
        "generator.add(LSTM(10, input_shape=input_shape))\n",
        "generator.add(Dense(1))\n",
        "generator.compile(optimizer='adam', loss='mean_squared_error')\n",
        "\n",
        "# define the discriminator model\n",
        "discriminator = Sequential()\n",
        "discriminator.add(LSTM(10, input_shape=input_shape))\n",
        "discriminator.add(Dense(1, activation='sigmoid'))\n",
        "discriminator.compile(optimizer='adam', loss='binary_crossentropy')\n",
        "\n",
        "\n",
        "# fit the generator and discriminator models separately\n",
        "generator.fit(x_train_scaled_windowed, y_train_scaled_windowed, epochs=50)\n",
        "discriminator.fit(x_train_scaled_windowed, y_train_scaled_windowed, epochs=50)\n",
        "\n",
        "# define the inputs for the adversarial model\n",
        "inputs = Input(shape=input_shape)\n",
        "\n",
        "# generate a time series\n",
        "generated_time_series = generator(inputs)\n",
        "\n",
        "# use the discriminator to classify the generated time series as real or fake\n",
        "is_real = discriminator(generated_time_series)\n",
        "\n",
        "# create the adversarial model\n",
        "adversarial_model = Model(inputs=inputs, outputs=generated_time_series)\n",
        "adversarial_model.compile(optimizer=Adam(0.0002, 0.5), loss='mean_squared_error')\n",
        "\n",
        "# train the adversarial model\n",
        "adversarial_model.fit(x=x_train_scaled_windowed, y=y_train_scaled_windowed, epochs=50)\n",
        "\n"
      ]
    },
    {
      "cell_type": "code",
      "execution_count": null,
      "metadata": {
        "colab": {
          "base_uri": "https://localhost:8080/"
        },
        "id": "__0s7FrZguln",
        "outputId": "61104b66-4948-4c1e-f163-763a9973c8b7"
      },
      "outputs": [
        {
          "name": "stdout",
          "output_type": "stream",
          "text": [
            "23/23 [==============================] - 0s 3ms/step\n"
          ]
        }
      ],
      "source": [
        "predictions_adv = adversarial_model.predict(x_test_scaled_windowed)\n",
        "predictions_adv = scaler.inverse_transform(predictions_adv.reshape(-1,1))\n",
        "x_test_windowed = scaler.inverse_transform(x_test_scaled_windowed.reshape(-1,1))\n",
        "mae = mean_absolute_error(x_test_windowed[:712], predictions_adv)\n",
        "rmse = np.sqrt(mean_squared_error(x_test_windowed[:712], predictions_adv))"
      ]
    },
    {
      "cell_type": "code",
      "execution_count": null,
      "metadata": {
        "id": "aQfDyTNDB6uo"
      },
      "outputs": [],
      "source": [
        "import pickle\n",
        "with open('/content/drive/MyDrive/Colab Notebooks/Special_Subject_Rafailidis/Special sub/pickle_files/predictions_adv.pickle', 'wb') as handle:\n",
        "    pickle.dump(predictions_adv, handle)\n"
      ]
    },
    {
      "cell_type": "code",
      "execution_count": null,
      "metadata": {
        "id": "ki8qopOQ1nb3"
      },
      "outputs": [],
      "source": [
        "# Linear Regression\n",
        "# Save target series\n",
        "#series = df['close']\n",
        "# All values normalized to training data\n",
        "#csi_300_normalized_to_traindata = scaler.fit_transform(series.values.reshape(-1, 1))\n",
        "lr = LinearRegression()\n",
        "lr.fit(x_train_scaled_lr, y_train_scaled_lr)\n",
        "predictions_lr = lr.predict(x_test_scaled)\n",
        "predictions_lr = scaler.inverse_transform(predictions_lr.reshape(-1,1))\n",
        "predictions_lr = predictions_lr.reshape(732,1)\n",
        "mae = mean_absolute_error(x_test, predictions_lr)\n",
        "rmse = np.sqrt(mean_squared_error(x_test, predictions_lr))\n",
        "models['Linear Regression'] = lr\n",
        "metrics['MAE'].append(mae)\n",
        "metrics['RMSE'].append(rmse)\n"
      ]
    },
    {
      "cell_type": "code",
      "execution_count": null,
      "metadata": {
        "id": "qo6518kGayUs"
      },
      "outputs": [],
      "source": [
        "import pickle\n",
        "with open('/content/drive/MyDrive/Colab Notebooks/Special_Subject_Rafailidis/Special sub/pickle_files/predictions_lr.pickle', 'wb') as handle:\n",
        "    pickle.dump(predictions_lr, handle)"
      ]
    },
    {
      "cell_type": "code",
      "execution_count": null,
      "metadata": {
        "colab": {
          "base_uri": "https://localhost:8080/",
          "height": 237
        },
        "id": "t7c9ef1uOuDi",
        "outputId": "901109df-7985-4ae9-c4f4-2c1336f5a7e0"
      },
      "outputs": [
        {
          "data": {
            "text/html": [
              "\n",
              "  <div id=\"df-469d6b4c-fc31-4903-9eff-b01f5a85a9a3\">\n",
              "    <div class=\"colab-df-container\">\n",
              "      <div>\n",
              "<style scoped>\n",
              "    .dataframe tbody tr th:only-of-type {\n",
              "        vertical-align: middle;\n",
              "    }\n",
              "\n",
              "    .dataframe tbody tr th {\n",
              "        vertical-align: top;\n",
              "    }\n",
              "\n",
              "    .dataframe thead th {\n",
              "        text-align: right;\n",
              "    }\n",
              "</style>\n",
              "<table border=\"1\" class=\"dataframe\">\n",
              "  <thead>\n",
              "    <tr style=\"text-align: right;\">\n",
              "      <th></th>\n",
              "      <th>close</th>\n",
              "      <th>open</th>\n",
              "      <th>high</th>\n",
              "      <th>low</th>\n",
              "      <th>volume</th>\n",
              "      <th>pct_change</th>\n",
              "      <th>adj.close</th>\n",
              "      <th>return_ratio</th>\n",
              "      <th>cum_return</th>\n",
              "    </tr>\n",
              "    <tr>\n",
              "      <th>datetime</th>\n",
              "      <th></th>\n",
              "      <th></th>\n",
              "      <th></th>\n",
              "      <th></th>\n",
              "      <th></th>\n",
              "      <th></th>\n",
              "      <th></th>\n",
              "      <th></th>\n",
              "      <th></th>\n",
              "    </tr>\n",
              "  </thead>\n",
              "  <tbody>\n",
              "    <tr>\n",
              "      <th>2007-01-02</th>\n",
              "      <td>2395.17</td>\n",
              "      <td>2350.60</td>\n",
              "      <td>2410.42</td>\n",
              "      <td>2310.57</td>\n",
              "      <td>65.08</td>\n",
              "      <td>0.41</td>\n",
              "      <td>2404.990119</td>\n",
              "      <td>0.000000</td>\n",
              "      <td>0.000000</td>\n",
              "    </tr>\n",
              "    <tr>\n",
              "      <th>2007-01-03</th>\n",
              "      <td>2473.54</td>\n",
              "      <td>2550.26</td>\n",
              "      <td>2550.33</td>\n",
              "      <td>2439.50</td>\n",
              "      <td>82.16</td>\n",
              "      <td>-2.79</td>\n",
              "      <td>2404.528272</td>\n",
              "      <td>-0.000192</td>\n",
              "      <td>-0.000192</td>\n",
              "    </tr>\n",
              "    <tr>\n",
              "      <th>2007-01-06</th>\n",
              "      <td>3803.95</td>\n",
              "      <td>3953.10</td>\n",
              "      <td>4014.15</td>\n",
              "      <td>3780.03</td>\n",
              "      <td>119.94</td>\n",
              "      <td>-3.16</td>\n",
              "      <td>3683.745133</td>\n",
              "      <td>0.532003</td>\n",
              "      <td>0.531811</td>\n",
              "    </tr>\n",
              "    <tr>\n",
              "      <th>2007-01-08</th>\n",
              "      <td>4290.48</td>\n",
              "      <td>4479.30</td>\n",
              "      <td>4496.25</td>\n",
              "      <td>4271.06</td>\n",
              "      <td>79.36</td>\n",
              "      <td>-3.81</td>\n",
              "      <td>4127.012693</td>\n",
              "      <td>0.120331</td>\n",
              "      <td>0.652142</td>\n",
              "    </tr>\n",
              "    <tr>\n",
              "      <th>2007-01-11</th>\n",
              "      <td>5605.23</td>\n",
              "      <td>5701.49</td>\n",
              "      <td>5702.21</td>\n",
              "      <td>5604.79</td>\n",
              "      <td>46.61</td>\n",
              "      <td>-1.46</td>\n",
              "      <td>5523.393623</td>\n",
              "      <td>0.338351</td>\n",
              "      <td>0.990493</td>\n",
              "    </tr>\n",
              "  </tbody>\n",
              "</table>\n",
              "</div>\n",
              "      <button class=\"colab-df-convert\" onclick=\"convertToInteractive('df-469d6b4c-fc31-4903-9eff-b01f5a85a9a3')\"\n",
              "              title=\"Convert this dataframe to an interactive table.\"\n",
              "              style=\"display:none;\">\n",
              "        \n",
              "  <svg xmlns=\"http://www.w3.org/2000/svg\" height=\"24px\"viewBox=\"0 0 24 24\"\n",
              "       width=\"24px\">\n",
              "    <path d=\"M0 0h24v24H0V0z\" fill=\"none\"/>\n",
              "    <path d=\"M18.56 5.44l.94 2.06.94-2.06 2.06-.94-2.06-.94-.94-2.06-.94 2.06-2.06.94zm-11 1L8.5 8.5l.94-2.06 2.06-.94-2.06-.94L8.5 2.5l-.94 2.06-2.06.94zm10 10l.94 2.06.94-2.06 2.06-.94-2.06-.94-.94-2.06-.94 2.06-2.06.94z\"/><path d=\"M17.41 7.96l-1.37-1.37c-.4-.4-.92-.59-1.43-.59-.52 0-1.04.2-1.43.59L10.3 9.45l-7.72 7.72c-.78.78-.78 2.05 0 2.83L4 21.41c.39.39.9.59 1.41.59.51 0 1.02-.2 1.41-.59l7.78-7.78 2.81-2.81c.8-.78.8-2.07 0-2.86zM5.41 20L4 18.59l7.72-7.72 1.47 1.35L5.41 20z\"/>\n",
              "  </svg>\n",
              "      </button>\n",
              "      \n",
              "  <style>\n",
              "    .colab-df-container {\n",
              "      display:flex;\n",
              "      flex-wrap:wrap;\n",
              "      gap: 12px;\n",
              "    }\n",
              "\n",
              "    .colab-df-convert {\n",
              "      background-color: #E8F0FE;\n",
              "      border: none;\n",
              "      border-radius: 50%;\n",
              "      cursor: pointer;\n",
              "      display: none;\n",
              "      fill: #1967D2;\n",
              "      height: 32px;\n",
              "      padding: 0 0 0 0;\n",
              "      width: 32px;\n",
              "    }\n",
              "\n",
              "    .colab-df-convert:hover {\n",
              "      background-color: #E2EBFA;\n",
              "      box-shadow: 0px 1px 2px rgba(60, 64, 67, 0.3), 0px 1px 3px 1px rgba(60, 64, 67, 0.15);\n",
              "      fill: #174EA6;\n",
              "    }\n",
              "\n",
              "    [theme=dark] .colab-df-convert {\n",
              "      background-color: #3B4455;\n",
              "      fill: #D2E3FC;\n",
              "    }\n",
              "\n",
              "    [theme=dark] .colab-df-convert:hover {\n",
              "      background-color: #434B5C;\n",
              "      box-shadow: 0px 1px 3px 1px rgba(0, 0, 0, 0.15);\n",
              "      filter: drop-shadow(0px 1px 2px rgba(0, 0, 0, 0.3));\n",
              "      fill: #FFFFFF;\n",
              "    }\n",
              "  </style>\n",
              "\n",
              "      <script>\n",
              "        const buttonEl =\n",
              "          document.querySelector('#df-469d6b4c-fc31-4903-9eff-b01f5a85a9a3 button.colab-df-convert');\n",
              "        buttonEl.style.display =\n",
              "          google.colab.kernel.accessAllowed ? 'block' : 'none';\n",
              "\n",
              "        async function convertToInteractive(key) {\n",
              "          const element = document.querySelector('#df-469d6b4c-fc31-4903-9eff-b01f5a85a9a3');\n",
              "          const dataTable =\n",
              "            await google.colab.kernel.invokeFunction('convertToInteractive',\n",
              "                                                     [key], {});\n",
              "          if (!dataTable) return;\n",
              "\n",
              "          const docLinkHtml = 'Like what you see? Visit the ' +\n",
              "            '<a target=\"_blank\" href=https://colab.research.google.com/notebooks/data_table.ipynb>data table notebook</a>'\n",
              "            + ' to learn more about interactive tables.';\n",
              "          element.innerHTML = '';\n",
              "          dataTable['output_type'] = 'display_data';\n",
              "          await google.colab.output.renderOutput(dataTable, element);\n",
              "          const docLink = document.createElement('div');\n",
              "          docLink.innerHTML = docLinkHtml;\n",
              "          element.appendChild(docLink);\n",
              "        }\n",
              "      </script>\n",
              "    </div>\n",
              "  </div>\n",
              "  "
            ],
            "text/plain": [
              "              close     open     high      low  volume  pct_change  \\\n",
              "datetime                                                             \n",
              "2007-01-02  2395.17  2350.60  2410.42  2310.57   65.08        0.41   \n",
              "2007-01-03  2473.54  2550.26  2550.33  2439.50   82.16       -2.79   \n",
              "2007-01-06  3803.95  3953.10  4014.15  3780.03  119.94       -3.16   \n",
              "2007-01-08  4290.48  4479.30  4496.25  4271.06   79.36       -3.81   \n",
              "2007-01-11  5605.23  5701.49  5702.21  5604.79   46.61       -1.46   \n",
              "\n",
              "              adj.close  return_ratio  cum_return  \n",
              "datetime                                           \n",
              "2007-01-02  2404.990119      0.000000    0.000000  \n",
              "2007-01-03  2404.528272     -0.000192   -0.000192  \n",
              "2007-01-06  3683.745133      0.532003    0.531811  \n",
              "2007-01-08  4127.012693      0.120331    0.652142  \n",
              "2007-01-11  5523.393623      0.338351    0.990493  "
            ]
          },
          "execution_count": 38,
          "metadata": {},
          "output_type": "execute_result"
        }
      ],
      "source": [
        "df.head(5)"
      ]
    },
    {
      "cell_type": "code",
      "execution_count": null,
      "metadata": {
        "id": "68RNdILd6xJz"
      },
      "outputs": [],
      "source": [
        "x_train_monthly_scaled = scaler.fit_transform(x_train_monthly.values.reshape(-1, 1))\n",
        "x_valid_monthly_scaled = scaler.fit_transform(x_valid_monthly.values.reshape(-1, 1)) \n",
        "x_test_monthly_scaled = scaler.fit_transform(x_test_monthly.values.reshape(-1, 1))"
      ]
    },
    {
      "cell_type": "code",
      "execution_count": null,
      "metadata": {
        "id": "p2vmvkzy7uBU"
      },
      "outputs": [],
      "source": [
        "x_train_monthly_scaled, y_train_monthly_scaled = train_test_split(x_train_monthly_scaled, test_size = 0.5)"
      ]
    },
    {
      "cell_type": "code",
      "execution_count": null,
      "metadata": {
        "colab": {
          "base_uri": "https://localhost:8080/"
        },
        "id": "hj_qz0tbLhvi",
        "outputId": "f6b2944f-409d-47eb-a7fe-1fba15ff4b12"
      },
      "outputs": [
        {
          "name": "stdout",
          "output_type": "stream",
          "text": [
            "Model: \"sequential_2\"\n",
            "_________________________________________________________________\n",
            " Layer (type)                Output Shape              Param #   \n",
            "=================================================================\n",
            " lstm_3 (LSTM)               (None, 20, 96)            37632     \n",
            "                                                                 \n",
            " dense_3 (Dense)             (None, 20, 64)            6208      \n",
            "                                                                 \n",
            " dense_4 (Dense)             (None, 20, 64)            4160      \n",
            "                                                                 \n",
            " activation (Activation)     (None, 20, 64)            0         \n",
            "                                                                 \n",
            " dropout (Dropout)           (None, 20, 64)            0         \n",
            "                                                                 \n",
            " lstm_4 (LSTM)               (None, 20, 64)            33024     \n",
            "                                                                 \n",
            " lstm_5 (LSTM)               (None, 64)                33024     \n",
            "                                                                 \n",
            " dense_5 (Dense)             (None, 1)                 65        \n",
            "                                                                 \n",
            "=================================================================\n",
            "Total params: 114,113\n",
            "Trainable params: 114,113\n",
            "Non-trainable params: 0\n",
            "_________________________________________________________________\n",
            "Epoch 1/100\n",
            "1/1 [==============================] - 6s 6s/step - loss: 1.1109 - correlation_coefficient: -0.2410\n",
            "Epoch 2/100\n",
            "1/1 [==============================] - 0s 21ms/step - loss: 1.0769 - correlation_coefficient: 0.2443\n",
            "Epoch 3/100\n",
            "1/1 [==============================] - 0s 20ms/step - loss: 1.0524 - correlation_coefficient: 0.2433\n",
            "Epoch 4/100\n",
            "1/1 [==============================] - 0s 22ms/step - loss: 1.0320 - correlation_coefficient: 0.2442\n",
            "Epoch 5/100\n",
            "1/1 [==============================] - 0s 19ms/step - loss: 1.0175 - correlation_coefficient: 0.2463\n",
            "Epoch 6/100\n",
            "1/1 [==============================] - 0s 21ms/step - loss: 1.0160 - correlation_coefficient: 0.2496\n",
            "Epoch 7/100\n",
            "1/1 [==============================] - 0s 19ms/step - loss: 1.0241 - correlation_coefficient: 0.2543\n",
            "Epoch 8/100\n"
          ]
        },
        {
          "name": "stderr",
          "output_type": "stream",
          "text": [
            "/usr/local/lib/python3.8/dist-packages/keras/engine/training.py:2086: UserWarning: Metric CorrelationCoefficient implements a `reset_states()` method; rename it to `reset_state()` (without the final \"s\"). The name `reset_states()` has been deprecated to improve API consistency.\n",
            "  m.reset_state()\n"
          ]
        },
        {
          "name": "stdout",
          "output_type": "stream",
          "text": [
            "1/1 [==============================] - 0s 23ms/step - loss: 1.0201 - correlation_coefficient: 0.2585\n",
            "Epoch 9/100\n",
            "1/1 [==============================] - 0s 22ms/step - loss: 1.0099 - correlation_coefficient: 0.2622\n",
            "Epoch 10/100\n",
            "1/1 [==============================] - 0s 22ms/step - loss: 1.0044 - correlation_coefficient: 0.2663\n",
            "Epoch 11/100\n",
            "1/1 [==============================] - 0s 20ms/step - loss: 1.0043 - correlation_coefficient: 0.2714\n",
            "Epoch 12/100\n",
            "1/1 [==============================] - 0s 19ms/step - loss: 1.0044 - correlation_coefficient: 0.2780\n",
            "Epoch 13/100\n",
            "1/1 [==============================] - 0s 20ms/step - loss: 1.0011 - correlation_coefficient: 0.2852\n",
            "Epoch 14/100\n",
            "1/1 [==============================] - 0s 21ms/step - loss: 0.9941 - correlation_coefficient: 0.2924\n",
            "Epoch 15/100\n",
            "1/1 [==============================] - 0s 24ms/step - loss: 0.9860 - correlation_coefficient: 0.2992\n",
            "Epoch 16/100\n",
            "1/1 [==============================] - 0s 19ms/step - loss: 0.9814 - correlation_coefficient: 0.3058\n",
            "Epoch 17/100\n",
            "1/1 [==============================] - 0s 20ms/step - loss: 0.9810 - correlation_coefficient: 0.3128\n",
            "Epoch 18/100\n",
            "1/1 [==============================] - 0s 22ms/step - loss: 0.9748 - correlation_coefficient: 0.3203\n",
            "Epoch 19/100\n",
            "1/1 [==============================] - 0s 22ms/step - loss: 0.9645 - correlation_coefficient: 0.3293\n",
            "Epoch 20/100\n",
            "1/1 [==============================] - 0s 22ms/step - loss: 0.9604 - correlation_coefficient: 0.3407\n",
            "Epoch 21/100\n",
            "1/1 [==============================] - 0s 21ms/step - loss: 0.9592 - correlation_coefficient: 0.3508\n",
            "Epoch 22/100\n",
            "1/1 [==============================] - 0s 21ms/step - loss: 0.9539 - correlation_coefficient: 0.3537\n",
            "Epoch 23/100\n",
            "1/1 [==============================] - 0s 21ms/step - loss: 0.9508 - correlation_coefficient: 0.3507\n",
            "Epoch 24/100\n",
            "1/1 [==============================] - 0s 22ms/step - loss: 0.9524 - correlation_coefficient: 0.3498\n",
            "Epoch 25/100\n",
            "1/1 [==============================] - 0s 22ms/step - loss: 0.9444 - correlation_coefficient: 0.3558\n",
            "Epoch 26/100\n",
            "1/1 [==============================] - 0s 20ms/step - loss: 0.9447 - correlation_coefficient: 0.3632\n",
            "Epoch 27/100\n",
            "1/1 [==============================] - 0s 22ms/step - loss: 0.9427 - correlation_coefficient: 0.3671\n",
            "Epoch 28/100\n",
            "1/1 [==============================] - 0s 21ms/step - loss: 0.9365 - correlation_coefficient: 0.3676\n",
            "Epoch 29/100\n",
            "1/1 [==============================] - 0s 19ms/step - loss: 0.9343 - correlation_coefficient: 0.3688\n",
            "Epoch 30/100\n",
            "1/1 [==============================] - 0s 23ms/step - loss: 0.9295 - correlation_coefficient: 0.3745\n",
            "Epoch 31/100\n",
            "1/1 [==============================] - 0s 23ms/step - loss: 0.9260 - correlation_coefficient: 0.3809\n",
            "Epoch 32/100\n",
            "1/1 [==============================] - 0s 21ms/step - loss: 0.9229 - correlation_coefficient: 0.3862\n",
            "Epoch 33/100\n",
            "1/1 [==============================] - 0s 22ms/step - loss: 0.9180 - correlation_coefficient: 0.3900\n",
            "Epoch 34/100\n",
            "1/1 [==============================] - 0s 19ms/step - loss: 0.9148 - correlation_coefficient: 0.3920\n",
            "Epoch 35/100\n",
            "1/1 [==============================] - 0s 20ms/step - loss: 0.9116 - correlation_coefficient: 0.3956\n",
            "Epoch 36/100\n",
            "1/1 [==============================] - 0s 20ms/step - loss: 0.9070 - correlation_coefficient: 0.4012\n",
            "Epoch 37/100\n",
            "1/1 [==============================] - 0s 22ms/step - loss: 0.9046 - correlation_coefficient: 0.4054\n",
            "Epoch 38/100\n",
            "1/1 [==============================] - 0s 21ms/step - loss: 0.9026 - correlation_coefficient: 0.4079\n",
            "Epoch 39/100\n",
            "1/1 [==============================] - 0s 19ms/step - loss: 0.8995 - correlation_coefficient: 0.4103\n",
            "Epoch 40/100\n",
            "1/1 [==============================] - 0s 26ms/step - loss: 0.8975 - correlation_coefficient: 0.4118\n",
            "Epoch 41/100\n",
            "1/1 [==============================] - 0s 23ms/step - loss: 0.8958 - correlation_coefficient: 0.4139\n",
            "Epoch 42/100\n",
            "1/1 [==============================] - 0s 21ms/step - loss: 0.8927 - correlation_coefficient: 0.4171\n",
            "Epoch 43/100\n",
            "1/1 [==============================] - 0s 23ms/step - loss: 0.8909 - correlation_coefficient: 0.4191\n",
            "Epoch 44/100\n",
            "1/1 [==============================] - 0s 23ms/step - loss: 0.8895 - correlation_coefficient: 0.4206\n",
            "Epoch 45/100\n",
            "1/1 [==============================] - 0s 20ms/step - loss: 0.8873 - correlation_coefficient: 0.4233\n",
            "Epoch 46/100\n",
            "1/1 [==============================] - 0s 24ms/step - loss: 0.8858 - correlation_coefficient: 0.4257\n",
            "Epoch 47/100\n",
            "1/1 [==============================] - 0s 22ms/step - loss: 0.8834 - correlation_coefficient: 0.4281\n",
            "Epoch 48/100\n",
            "1/1 [==============================] - 0s 20ms/step - loss: 0.8809 - correlation_coefficient: 0.4303\n",
            "Epoch 49/100\n",
            "1/1 [==============================] - 0s 23ms/step - loss: 0.8792 - correlation_coefficient: 0.4319\n",
            "Epoch 50/100\n",
            "1/1 [==============================] - 0s 21ms/step - loss: 0.8770 - correlation_coefficient: 0.4342\n",
            "Epoch 51/100\n",
            "1/1 [==============================] - 0s 23ms/step - loss: 0.8750 - correlation_coefficient: 0.4363\n",
            "Epoch 52/100\n",
            "1/1 [==============================] - 0s 21ms/step - loss: 0.8731 - correlation_coefficient: 0.4383\n",
            "Epoch 53/100\n",
            "1/1 [==============================] - 0s 23ms/step - loss: 0.8708 - correlation_coefficient: 0.4407\n",
            "Epoch 54/100\n",
            "1/1 [==============================] - 0s 22ms/step - loss: 0.8691 - correlation_coefficient: 0.4427\n",
            "Epoch 55/100\n",
            "1/1 [==============================] - 0s 22ms/step - loss: 0.8674 - correlation_coefficient: 0.4444\n",
            "Epoch 56/100\n",
            "1/1 [==============================] - 0s 22ms/step - loss: 0.8657 - correlation_coefficient: 0.4461\n",
            "Epoch 57/100\n",
            "1/1 [==============================] - 0s 21ms/step - loss: 0.8643 - correlation_coefficient: 0.4476\n",
            "Epoch 58/100\n",
            "1/1 [==============================] - 0s 22ms/step - loss: 0.8625 - correlation_coefficient: 0.4494\n",
            "Epoch 59/100\n",
            "1/1 [==============================] - 0s 21ms/step - loss: 0.8611 - correlation_coefficient: 0.4510\n",
            "Epoch 60/100\n",
            "1/1 [==============================] - 0s 21ms/step - loss: 0.8593 - correlation_coefficient: 0.4526\n",
            "Epoch 61/100\n",
            "1/1 [==============================] - 0s 21ms/step - loss: 0.8579 - correlation_coefficient: 0.4540\n",
            "Epoch 62/100\n",
            "1/1 [==============================] - 0s 25ms/step - loss: 0.8561 - correlation_coefficient: 0.4561\n",
            "Epoch 63/100\n",
            "1/1 [==============================] - 0s 22ms/step - loss: 0.8544 - correlation_coefficient: 0.4581\n",
            "Epoch 64/100\n",
            "1/1 [==============================] - 0s 21ms/step - loss: 0.8522 - correlation_coefficient: 0.4599\n",
            "Epoch 65/100\n",
            "1/1 [==============================] - 0s 19ms/step - loss: 0.8499 - correlation_coefficient: 0.4621\n",
            "Epoch 66/100\n",
            "1/1 [==============================] - 0s 24ms/step - loss: 0.8474 - correlation_coefficient: 0.4649\n",
            "Epoch 67/100\n",
            "1/1 [==============================] - 0s 22ms/step - loss: 0.8443 - correlation_coefficient: 0.4677\n",
            "Epoch 68/100\n",
            "1/1 [==============================] - 0s 21ms/step - loss: 0.8408 - correlation_coefficient: 0.4711\n",
            "Epoch 69/100\n",
            "1/1 [==============================] - 0s 21ms/step - loss: 0.8370 - correlation_coefficient: 0.4751\n",
            "Epoch 70/100\n",
            "1/1 [==============================] - 0s 19ms/step - loss: 0.8331 - correlation_coefficient: 0.4788\n",
            "Epoch 71/100\n",
            "1/1 [==============================] - 0s 25ms/step - loss: 0.8309 - correlation_coefficient: 0.4832\n",
            "Epoch 72/100\n",
            "1/1 [==============================] - 0s 20ms/step - loss: 0.8334 - correlation_coefficient: 0.4807\n",
            "Epoch 73/100\n",
            "1/1 [==============================] - 0s 21ms/step - loss: 0.8252 - correlation_coefficient: 0.4934\n",
            "Epoch 74/100\n",
            "1/1 [==============================] - 0s 19ms/step - loss: 0.8148 - correlation_coefficient: 0.5007\n",
            "Epoch 75/100\n",
            "1/1 [==============================] - 0s 21ms/step - loss: 0.8072 - correlation_coefficient: 0.5052\n",
            "Epoch 76/100\n",
            "1/1 [==============================] - 0s 26ms/step - loss: 0.7964 - correlation_coefficient: 0.5151\n",
            "Epoch 77/100\n",
            "1/1 [==============================] - 0s 22ms/step - loss: 0.8015 - correlation_coefficient: 0.5205\n",
            "Epoch 78/100\n",
            "1/1 [==============================] - 0s 25ms/step - loss: 0.8462 - correlation_coefficient: 0.4970\n",
            "Epoch 79/100\n",
            "1/1 [==============================] - 0s 23ms/step - loss: 0.8085 - correlation_coefficient: 0.5286\n",
            "Epoch 80/100\n",
            "1/1 [==============================] - 0s 19ms/step - loss: 0.9688 - correlation_coefficient: 0.4963\n",
            "Epoch 81/100\n",
            "1/1 [==============================] - 0s 20ms/step - loss: 0.8520 - correlation_coefficient: 0.4700\n",
            "Epoch 82/100\n",
            "1/1 [==============================] - 0s 21ms/step - loss: 0.9325 - correlation_coefficient: 0.3925\n",
            "Epoch 83/100\n",
            "1/1 [==============================] - 0s 22ms/step - loss: 0.9516 - correlation_coefficient: 0.4284\n",
            "Epoch 84/100\n",
            "1/1 [==============================] - 0s 21ms/step - loss: 0.9650 - correlation_coefficient: 0.4494\n",
            "Epoch 85/100\n",
            "1/1 [==============================] - 0s 23ms/step - loss: 0.9496 - correlation_coefficient: 0.4532\n",
            "Epoch 86/100\n",
            "1/1 [==============================] - 0s 27ms/step - loss: 0.9225 - correlation_coefficient: 0.4319\n",
            "Epoch 87/100\n",
            "1/1 [==============================] - 0s 25ms/step - loss: 0.9195 - correlation_coefficient: 0.4023\n",
            "Epoch 88/100\n",
            "1/1 [==============================] - 0s 22ms/step - loss: 0.8870 - correlation_coefficient: 0.4427\n",
            "Epoch 89/100\n",
            "1/1 [==============================] - 0s 20ms/step - loss: 0.8632 - correlation_coefficient: 0.4874\n",
            "Epoch 90/100\n",
            "1/1 [==============================] - 0s 20ms/step - loss: 0.8485 - correlation_coefficient: 0.5005\n",
            "Epoch 91/100\n",
            "1/1 [==============================] - 0s 21ms/step - loss: 0.8194 - correlation_coefficient: 0.5103\n",
            "Epoch 92/100\n",
            "1/1 [==============================] - 0s 21ms/step - loss: 0.7988 - correlation_coefficient: 0.5171\n",
            "Epoch 93/100\n",
            "1/1 [==============================] - 0s 22ms/step - loss: 0.7899 - correlation_coefficient: 0.5242\n",
            "Epoch 94/100\n",
            "1/1 [==============================] - 0s 23ms/step - loss: 0.7759 - correlation_coefficient: 0.5332\n",
            "Epoch 95/100\n",
            "1/1 [==============================] - 0s 23ms/step - loss: 0.7844 - correlation_coefficient: 0.5278\n",
            "Epoch 96/100\n",
            "1/1 [==============================] - 0s 20ms/step - loss: 0.7939 - correlation_coefficient: 0.5266\n",
            "Epoch 97/100\n",
            "1/1 [==============================] - 0s 22ms/step - loss: 0.7866 - correlation_coefficient: 0.5363\n",
            "Epoch 98/100\n",
            "1/1 [==============================] - 0s 22ms/step - loss: 0.7765 - correlation_coefficient: 0.5472\n",
            "Epoch 99/100\n",
            "1/1 [==============================] - 0s 22ms/step - loss: 0.7579 - correlation_coefficient: 0.5570\n",
            "Epoch 100/100\n",
            "1/1 [==============================] - 0s 21ms/step - loss: 0.7455 - correlation_coefficient: 0.5621\n"
          ]
        }
      ],
      "source": [
        "# Coarse Grained RNN - Month\n",
        "\n",
        "from keras.layers import LSTM, Dense, Dropout, Activation, Flatten\n",
        "from keras.models import Sequential\n",
        "from keras.layers import Input, Dense\n",
        "from keras.layers import Activation, Dense, Reshape\n",
        "from keras.preprocessing.sequence import TimeseriesGenerator\n",
        "\n",
        "rnn_type = 'LSTM'\n",
        "rnn_layer = 2\n",
        "hid_size = 64\n",
        "dropout = 0\n",
        "optim_method = 'Adam'\n",
        "optim_args = {'lr': 1e-3}\n",
        "loss_fn = 'mse'\n",
        "batch_size = 300\n",
        "#feature_num = 1\n",
        "#seq_length = 20\n",
        "\n",
        "# Architecture\n",
        "cgrnn = Sequential()\n",
        "cgrnn.add(LSTM(96, activation='tanh', input_shape=(20, 1), return_sequences = True))\n",
        "#model.add(Input(input_shape))\n",
        "cgrnn.add(Dense(hid_size))\n",
        "cgrnn.add(Dense(hid_size))\n",
        "cgrnn.add(Activation('tanh'))\n",
        "cgrnn.add(Dropout(dropout))\n",
        "cgrnn.add(LSTM(hid_size, return_sequences=True, dropout=dropout))\n",
        "for _ in range(rnn_layer-2):\n",
        "    cgrnn.add(LSTM(hid_size, return_sequences=True, dropout=dropout))\n",
        "cgrnn.add(LSTM(hid_size, dropout=dropout))\n",
        "cgrnn.add(Dense(1))\n",
        "\n",
        "cgrnn.summary()\n",
        "# Optimization\n",
        "cgrnn.compile(optimizer=optim_method, loss=loss_fn, metrics= [CorrelationCoefficient()])\n",
        "#define generator\n",
        "generator = TimeseriesGenerator(x_train_monthly_scaled, y_train_monthly_scaled, length=20, batch_size=300)\n",
        "# fit model on generator\n",
        "history = cgrnn.fit(generator, epochs=100)\n"
      ]
    },
    {
      "cell_type": "code",
      "execution_count": null,
      "metadata": {
        "colab": {
          "base_uri": "https://localhost:8080/"
        },
        "id": "H56b8SCL9GF6",
        "outputId": "ec659b1d-fd09-4714-8900-003a8a69738f"
      },
      "outputs": [
        {
          "name": "stderr",
          "output_type": "stream",
          "text": [
            "WARNING:tensorflow:Model was constructed with shape (None, 20, 1) for input KerasTensor(type_spec=TensorSpec(shape=(None, 20, 1), dtype=tf.float32, name='lstm_3_input'), name='lstm_3_input', description=\"created by layer 'lstm_3_input'\"), but it was called on an input with incompatible shape (None, 1, 1).\n"
          ]
        },
        {
          "name": "stdout",
          "output_type": "stream",
          "text": [
            "23/23 [==============================] - 1s 5ms/step\n"
          ]
        }
      ],
      "source": [
        "predictions_cgrnn = cgrnn.predict(x_test_scaled.reshape(-1, 1))\n",
        "predictions_cgrnn = scaler.inverse_transform(predictions_cgrnn.reshape(-1,1))\n",
        "mae = mean_absolute_error(x_test, predictions_cgrnn)\n",
        "rmse = np.sqrt(mean_squared_error(x_test, predictions_cgrnn))\n",
        "models['Coarse-Grained RNN'] = cgrnn\n",
        "metrics['MAE'].append(mae)\n",
        "metrics['RMSE'].append(rmse)"
      ]
    },
    {
      "cell_type": "code",
      "execution_count": null,
      "metadata": {
        "id": "w98nGPRPbCA4"
      },
      "outputs": [],
      "source": [
        "import pickle\n",
        "with open('/content/drive/MyDrive/Colab Notebooks/Special_Subject_Rafailidis/Special sub/pickle_files/predictions_cgrnn.pickle', 'wb') as handle:\n",
        "    pickle.dump(predictions_cgrnn, handle)"
      ]
    },
    {
      "cell_type": "code",
      "execution_count": null,
      "metadata": {
        "colab": {
          "base_uri": "https://localhost:8080/"
        },
        "id": "-U_fRWZsJsbt",
        "outputId": "791f09ef-d358-45b1-e9b9-b0fbcb66a26c"
      },
      "outputs": [
        {
          "name": "stdout",
          "output_type": "stream",
          "text": [
            "Model: \"sequential_3\"\n",
            "_________________________________________________________________\n",
            " Layer (type)                Output Shape              Param #   \n",
            "=================================================================\n",
            " lstm_6 (LSTM)               (None, 20, 96)            37632     \n",
            "                                                                 \n",
            " dense_6 (Dense)             (None, 20, 64)            6208      \n",
            "                                                                 \n",
            " dense_7 (Dense)             (None, 20, 64)            4160      \n",
            "                                                                 \n",
            " activation_1 (Activation)   (None, 20, 64)            0         \n",
            "                                                                 \n",
            " dropout_1 (Dropout)         (None, 20, 64)            0         \n",
            "                                                                 \n",
            " lstm_7 (LSTM)               (None, 20, 64)            33024     \n",
            "                                                                 \n",
            " lstm_8 (LSTM)               (None, 64)                33024     \n",
            "                                                                 \n",
            " dense_8 (Dense)             (None, 1)                 65        \n",
            "                                                                 \n",
            "=================================================================\n",
            "Total params: 114,113\n",
            "Trainable params: 114,113\n",
            "Non-trainable params: 0\n",
            "_________________________________________________________________\n",
            "Epoch 1/100\n",
            "4/4 [==============================] - 4s 16ms/step - loss: 1.0156 - correlation_coefficient: 0.0855\n",
            "Epoch 2/100\n",
            "4/4 [==============================] - 0s 12ms/step - loss: 1.0127 - correlation_coefficient: 0.0436\n",
            "Epoch 3/100\n",
            "4/4 [==============================] - 0s 12ms/step - loss: 1.0118 - correlation_coefficient: 0.0433\n",
            "Epoch 4/100\n",
            "4/4 [==============================] - 0s 11ms/step - loss: 1.0124 - correlation_coefficient: 0.0905\n",
            "Epoch 5/100\n"
          ]
        },
        {
          "name": "stderr",
          "output_type": "stream",
          "text": [
            "/usr/local/lib/python3.8/dist-packages/keras/engine/training.py:2086: UserWarning: Metric CorrelationCoefficient implements a `reset_states()` method; rename it to `reset_state()` (without the final \"s\"). The name `reset_states()` has been deprecated to improve API consistency.\n",
            "  m.reset_state()\n"
          ]
        },
        {
          "name": "stdout",
          "output_type": "stream",
          "text": [
            "4/4 [==============================] - 0s 13ms/step - loss: 1.0120 - correlation_coefficient: 0.1196\n",
            "Epoch 6/100\n",
            "4/4 [==============================] - 0s 11ms/step - loss: 1.0120 - correlation_coefficient: 0.0424\n",
            "Epoch 7/100\n",
            "4/4 [==============================] - 0s 12ms/step - loss: 1.0123 - correlation_coefficient: 0.1447\n",
            "Epoch 8/100\n",
            "4/4 [==============================] - 0s 15ms/step - loss: 1.0117 - correlation_coefficient: 0.1459\n",
            "Epoch 9/100\n",
            "4/4 [==============================] - 0s 14ms/step - loss: 1.0118 - correlation_coefficient: 0.0417\n",
            "Epoch 10/100\n",
            "4/4 [==============================] - 0s 12ms/step - loss: 1.0120 - correlation_coefficient: 0.1623\n",
            "Epoch 11/100\n",
            "4/4 [==============================] - 0s 14ms/step - loss: 1.0105 - correlation_coefficient: 0.1694\n",
            "Epoch 12/100\n",
            "4/4 [==============================] - 0s 12ms/step - loss: 1.0107 - correlation_coefficient: 0.1778\n",
            "Epoch 13/100\n",
            "4/4 [==============================] - 0s 12ms/step - loss: 1.0133 - correlation_coefficient: 0.0420\n",
            "Epoch 14/100\n",
            "4/4 [==============================] - 0s 13ms/step - loss: 1.0109 - correlation_coefficient: 0.2567\n",
            "Epoch 15/100\n",
            "4/4 [==============================] - 0s 12ms/step - loss: 1.0108 - correlation_coefficient: 0.0494\n",
            "Epoch 16/100\n",
            "4/4 [==============================] - 0s 12ms/step - loss: 1.0113 - correlation_coefficient: 0.0702\n",
            "Epoch 17/100\n",
            "4/4 [==============================] - 0s 12ms/step - loss: 1.0121 - correlation_coefficient: 0.0996\n",
            "Epoch 18/100\n",
            "4/4 [==============================] - 0s 11ms/step - loss: 1.0079 - correlation_coefficient: 0.2751\n",
            "Epoch 19/100\n",
            "4/4 [==============================] - 0s 12ms/step - loss: 1.0119 - correlation_coefficient: 0.0642\n",
            "Epoch 20/100\n",
            "4/4 [==============================] - 0s 11ms/step - loss: 1.0100 - correlation_coefficient: 0.0647\n",
            "Epoch 21/100\n",
            "4/4 [==============================] - 0s 12ms/step - loss: 1.0049 - correlation_coefficient: 0.1216\n",
            "Epoch 22/100\n",
            "4/4 [==============================] - 0s 12ms/step - loss: 1.0026 - correlation_coefficient: 0.1230\n",
            "Epoch 23/100\n",
            "4/4 [==============================] - 0s 15ms/step - loss: 0.9987 - correlation_coefficient: 0.0542\n",
            "Epoch 24/100\n",
            "4/4 [==============================] - 0s 12ms/step - loss: 0.9960 - correlation_coefficient: 0.1413\n",
            "Epoch 25/100\n",
            "4/4 [==============================] - 0s 11ms/step - loss: 0.9993 - correlation_coefficient: 0.2013\n",
            "Epoch 26/100\n",
            "4/4 [==============================] - 0s 14ms/step - loss: 0.9969 - correlation_coefficient: 0.1631\n",
            "Epoch 27/100\n",
            "4/4 [==============================] - 0s 12ms/step - loss: 0.9999 - correlation_coefficient: 0.1305\n",
            "Epoch 28/100\n",
            "4/4 [==============================] - 0s 12ms/step - loss: 0.9979 - correlation_coefficient: 0.1677\n",
            "Epoch 29/100\n",
            "4/4 [==============================] - 0s 12ms/step - loss: 0.9942 - correlation_coefficient: 0.1406\n",
            "Epoch 30/100\n",
            "4/4 [==============================] - 0s 12ms/step - loss: 0.9892 - correlation_coefficient: 0.1639\n",
            "Epoch 31/100\n",
            "4/4 [==============================] - 0s 11ms/step - loss: 0.9897 - correlation_coefficient: 0.1528\n",
            "Epoch 32/100\n",
            "4/4 [==============================] - 0s 11ms/step - loss: 0.9857 - correlation_coefficient: 0.0880\n",
            "Epoch 33/100\n",
            "4/4 [==============================] - 0s 12ms/step - loss: 0.9886 - correlation_coefficient: 0.1753\n",
            "Epoch 34/100\n",
            "4/4 [==============================] - 0s 12ms/step - loss: 0.9910 - correlation_coefficient: 0.1743\n",
            "Epoch 35/100\n",
            "4/4 [==============================] - 0s 11ms/step - loss: 0.9922 - correlation_coefficient: 0.1325\n",
            "Epoch 36/100\n",
            "4/4 [==============================] - 0s 11ms/step - loss: 0.9882 - correlation_coefficient: 0.2600\n",
            "Epoch 37/100\n",
            "4/4 [==============================] - 0s 13ms/step - loss: 0.9842 - correlation_coefficient: 0.1816\n",
            "Epoch 38/100\n",
            "4/4 [==============================] - 0s 14ms/step - loss: 0.9854 - correlation_coefficient: 0.2481\n",
            "Epoch 39/100\n",
            "4/4 [==============================] - 0s 12ms/step - loss: 0.9834 - correlation_coefficient: 0.1749\n",
            "Epoch 40/100\n",
            "4/4 [==============================] - 0s 12ms/step - loss: 0.9858 - correlation_coefficient: 0.1852\n",
            "Epoch 41/100\n",
            "4/4 [==============================] - 0s 13ms/step - loss: 0.9846 - correlation_coefficient: 0.1520\n",
            "Epoch 42/100\n",
            "4/4 [==============================] - 0s 11ms/step - loss: 0.9832 - correlation_coefficient: 0.1724\n",
            "Epoch 43/100\n",
            "4/4 [==============================] - 0s 12ms/step - loss: 0.9867 - correlation_coefficient: 0.1700\n",
            "Epoch 44/100\n",
            "4/4 [==============================] - 0s 11ms/step - loss: 0.9793 - correlation_coefficient: 0.1832\n",
            "Epoch 45/100\n",
            "4/4 [==============================] - 0s 12ms/step - loss: 0.9924 - correlation_coefficient: 0.1785\n",
            "Epoch 46/100\n",
            "4/4 [==============================] - 0s 12ms/step - loss: 0.9914 - correlation_coefficient: 0.3135\n",
            "Epoch 47/100\n",
            "4/4 [==============================] - 0s 11ms/step - loss: 0.9840 - correlation_coefficient: 0.1771\n",
            "Epoch 48/100\n",
            "4/4 [==============================] - 0s 11ms/step - loss: 0.9836 - correlation_coefficient: 0.1669\n",
            "Epoch 49/100\n",
            "4/4 [==============================] - 0s 11ms/step - loss: 0.9813 - correlation_coefficient: 0.1653\n",
            "Epoch 50/100\n",
            "4/4 [==============================] - 0s 12ms/step - loss: 0.9732 - correlation_coefficient: 0.3379\n",
            "Epoch 51/100\n",
            "4/4 [==============================] - 0s 13ms/step - loss: 0.9700 - correlation_coefficient: 0.2146\n",
            "Epoch 52/100\n",
            "4/4 [==============================] - 0s 13ms/step - loss: 0.9676 - correlation_coefficient: 0.2031\n",
            "Epoch 53/100\n",
            "4/4 [==============================] - 0s 11ms/step - loss: 0.9646 - correlation_coefficient: 0.4490\n",
            "Epoch 54/100\n",
            "4/4 [==============================] - 0s 12ms/step - loss: 0.9642 - correlation_coefficient: 0.2449\n",
            "Epoch 55/100\n",
            "4/4 [==============================] - 0s 15ms/step - loss: 0.9720 - correlation_coefficient: 0.1447\n",
            "Epoch 56/100\n",
            "4/4 [==============================] - 0s 11ms/step - loss: 0.9569 - correlation_coefficient: 0.1832\n",
            "Epoch 57/100\n",
            "4/4 [==============================] - 0s 11ms/step - loss: 0.9735 - correlation_coefficient: 0.2145\n",
            "Epoch 58/100\n",
            "4/4 [==============================] - 0s 14ms/step - loss: 0.9721 - correlation_coefficient: 0.1609\n",
            "Epoch 59/100\n",
            "4/4 [==============================] - 0s 12ms/step - loss: 0.9654 - correlation_coefficient: 0.2188\n",
            "Epoch 60/100\n",
            "4/4 [==============================] - 0s 11ms/step - loss: 0.9581 - correlation_coefficient: 0.2379\n",
            "Epoch 61/100\n",
            "4/4 [==============================] - 0s 12ms/step - loss: 0.9547 - correlation_coefficient: 0.2311\n",
            "Epoch 62/100\n",
            "4/4 [==============================] - 0s 12ms/step - loss: 0.9709 - correlation_coefficient: 0.1344\n",
            "Epoch 63/100\n",
            "4/4 [==============================] - 0s 12ms/step - loss: 0.9727 - correlation_coefficient: 0.2187\n",
            "Epoch 64/100\n",
            "4/4 [==============================] - 0s 12ms/step - loss: 0.9533 - correlation_coefficient: 0.2357\n",
            "Epoch 65/100\n",
            "4/4 [==============================] - 0s 12ms/step - loss: 0.9409 - correlation_coefficient: 0.5339\n",
            "Epoch 66/100\n",
            "4/4 [==============================] - 0s 13ms/step - loss: 0.9333 - correlation_coefficient: 0.3164\n",
            "Epoch 67/100\n",
            "4/4 [==============================] - 0s 12ms/step - loss: 0.9304 - correlation_coefficient: 0.3287\n",
            "Epoch 68/100\n",
            "4/4 [==============================] - 0s 12ms/step - loss: 0.9276 - correlation_coefficient: 0.2178\n",
            "Epoch 69/100\n",
            "4/4 [==============================] - 0s 11ms/step - loss: 0.9160 - correlation_coefficient: 0.2808\n",
            "Epoch 70/100\n",
            "4/4 [==============================] - 0s 11ms/step - loss: 0.9053 - correlation_coefficient: 0.6759\n",
            "Epoch 71/100\n",
            "4/4 [==============================] - 0s 14ms/step - loss: 0.9024 - correlation_coefficient: 0.2358\n",
            "Epoch 72/100\n",
            "4/4 [==============================] - 0s 13ms/step - loss: 0.9000 - correlation_coefficient: 0.3731\n",
            "Epoch 73/100\n",
            "4/4 [==============================] - 0s 13ms/step - loss: 0.8983 - correlation_coefficient: 0.3031\n",
            "Epoch 74/100\n",
            "4/4 [==============================] - 0s 12ms/step - loss: 0.8993 - correlation_coefficient: 0.3860\n",
            "Epoch 75/100\n",
            "4/4 [==============================] - 0s 12ms/step - loss: 0.9065 - correlation_coefficient: 0.2945\n",
            "Epoch 76/100\n",
            "4/4 [==============================] - 0s 12ms/step - loss: 0.8955 - correlation_coefficient: 0.6192\n",
            "Epoch 77/100\n",
            "4/4 [==============================] - 0s 14ms/step - loss: 0.8703 - correlation_coefficient: 0.6538\n",
            "Epoch 78/100\n",
            "4/4 [==============================] - 0s 12ms/step - loss: 0.8639 - correlation_coefficient: 0.4001\n",
            "Epoch 79/100\n",
            "4/4 [==============================] - 0s 13ms/step - loss: 0.8660 - correlation_coefficient: 0.4201\n",
            "Epoch 80/100\n",
            "4/4 [==============================] - 0s 13ms/step - loss: 0.8578 - correlation_coefficient: 0.7147\n",
            "Epoch 81/100\n",
            "4/4 [==============================] - 0s 12ms/step - loss: 0.8528 - correlation_coefficient: 0.2884\n",
            "Epoch 82/100\n",
            "4/4 [==============================] - 0s 13ms/step - loss: 0.8595 - correlation_coefficient: 0.4200\n",
            "Epoch 83/100\n",
            "4/4 [==============================] - 0s 14ms/step - loss: 0.8518 - correlation_coefficient: 0.4066\n",
            "Epoch 84/100\n",
            "4/4 [==============================] - 0s 13ms/step - loss: 0.8815 - correlation_coefficient: 0.3139\n",
            "Epoch 85/100\n",
            "4/4 [==============================] - 0s 14ms/step - loss: 0.8581 - correlation_coefficient: 0.4068\n",
            "Epoch 86/100\n",
            "4/4 [==============================] - 0s 13ms/step - loss: 0.8344 - correlation_coefficient: 0.4295\n",
            "Epoch 87/100\n",
            "4/4 [==============================] - 0s 12ms/step - loss: 0.8204 - correlation_coefficient: 0.4574\n",
            "Epoch 88/100\n",
            "4/4 [==============================] - 0s 12ms/step - loss: 0.8120 - correlation_coefficient: 0.7412\n",
            "Epoch 89/100\n",
            "4/4 [==============================] - 0s 12ms/step - loss: 0.7957 - correlation_coefficient: 0.4586\n",
            "Epoch 90/100\n",
            "4/4 [==============================] - 0s 12ms/step - loss: 0.7907 - correlation_coefficient: 0.4777\n",
            "Epoch 91/100\n",
            "4/4 [==============================] - 0s 11ms/step - loss: 0.7725 - correlation_coefficient: 0.5116\n",
            "Epoch 92/100\n",
            "4/4 [==============================] - 0s 14ms/step - loss: 0.7723 - correlation_coefficient: 0.4789\n",
            "Epoch 93/100\n",
            "4/4 [==============================] - 0s 12ms/step - loss: 0.7634 - correlation_coefficient: 0.8347\n",
            "Epoch 94/100\n",
            "4/4 [==============================] - 0s 13ms/step - loss: 0.7693 - correlation_coefficient: 0.3602\n",
            "Epoch 95/100\n",
            "4/4 [==============================] - 0s 12ms/step - loss: 0.7616 - correlation_coefficient: 0.7557\n",
            "Epoch 96/100\n",
            "4/4 [==============================] - 0s 12ms/step - loss: 0.7499 - correlation_coefficient: 0.3996\n",
            "Epoch 97/100\n",
            "4/4 [==============================] - 0s 12ms/step - loss: 0.7344 - correlation_coefficient: 0.4140\n",
            "Epoch 98/100\n",
            "4/4 [==============================] - 0s 12ms/step - loss: 0.7182 - correlation_coefficient: 0.5608\n",
            "Epoch 99/100\n",
            "4/4 [==============================] - 0s 12ms/step - loss: 0.6946 - correlation_coefficient: 0.5793\n",
            "Epoch 100/100\n",
            "4/4 [==============================] - 0s 12ms/step - loss: 0.6817 - correlation_coefficient: 0.5908\n"
          ]
        }
      ],
      "source": [
        "# Fine-Grained RNN - Day\n",
        "from keras.layers import LSTM, Dense, Dropout, Activation, Flatten\n",
        "from keras.models import Sequential\n",
        "from keras.layers import Input, Dense\n",
        "from keras.layers import Activation, Dense, Reshape\n",
        "from keras.preprocessing.sequence import TimeseriesGenerator\n",
        "\n",
        "rnn_type = 'LSTM'\n",
        "rnn_layer = 2\n",
        "hid_size = 64\n",
        "dropout = 0\n",
        "optim_method = 'Adam'\n",
        "optim_args = {'lr': 1e-3}\n",
        "loss_fn = 'mse'\n",
        "batch_size = 300\n",
        "#feature_num = 1\n",
        "#seq_length = 20\n",
        "\n",
        "# Architecture\n",
        "fgrnn = Sequential()\n",
        "fgrnn.add(LSTM(96, activation='tanh', input_shape=(20, 1), return_sequences = True))\n",
        "#model.add(Input(input_shape))\n",
        "fgrnn.add(Dense(hid_size))\n",
        "fgrnn.add(Dense(hid_size))\n",
        "fgrnn.add(Activation('tanh'))\n",
        "fgrnn.add(Dropout(dropout))\n",
        "fgrnn.add(LSTM(hid_size, return_sequences=True, dropout=dropout))\n",
        "for _ in range(rnn_layer-2):\n",
        "    fgrnn.add(LSTM(hid_size, return_sequences=True, dropout=dropout))\n",
        "fgrnn.add(LSTM(hid_size, dropout=dropout))\n",
        "fgrnn.add(Dense(1))\n",
        "\n",
        "fgrnn.summary()\n",
        "# Optimization\n",
        "fgrnn.compile(optimizer=optim_method, loss=loss_fn, metrics= [CorrelationCoefficient()])\n",
        "#define generator\n",
        "generator = TimeseriesGenerator(x_train_scaled_lr, y_train_scaled_lr, length=20, batch_size=300)\n",
        "# fit model on generator\n",
        "history = fgrnn.fit(generator, epochs=100)"
      ]
    },
    {
      "cell_type": "code",
      "execution_count": null,
      "metadata": {
        "colab": {
          "base_uri": "https://localhost:8080/"
        },
        "id": "oSwNlZ8o7zzc",
        "outputId": "787752e0-4c67-440c-ad2c-25ae1948520b"
      },
      "outputs": [
        {
          "name": "stderr",
          "output_type": "stream",
          "text": [
            "WARNING:tensorflow:Model was constructed with shape (None, 20, 1) for input KerasTensor(type_spec=TensorSpec(shape=(None, 20, 1), dtype=tf.float32, name='lstm_6_input'), name='lstm_6_input', description=\"created by layer 'lstm_6_input'\"), but it was called on an input with incompatible shape (None, 1, 1).\n"
          ]
        },
        {
          "name": "stdout",
          "output_type": "stream",
          "text": [
            "23/23 [==============================] - 1s 3ms/step\n"
          ]
        }
      ],
      "source": [
        "predictions_fgrnn = fgrnn.predict(x_test_scaled.reshape(-1, 1))\n",
        "predictions_fgrnn = scaler.inverse_transform(predictions_fgrnn.reshape(-1,1))\n",
        "mae = mean_absolute_error(x_test, predictions_fgrnn)\n",
        "rmse = np.sqrt(mean_squared_error(x_test, predictions_fgrnn))\n",
        "models['Fine-Grained RNN'] = fgrnn\n",
        "metrics['MAE'].append(mae)\n",
        "metrics['RMSE'].append(rmse)"
      ]
    },
    {
      "cell_type": "code",
      "execution_count": null,
      "metadata": {
        "id": "5N4VRIAmbR2d"
      },
      "outputs": [],
      "source": [
        "import pickle\n",
        "with open('/content/drive/MyDrive/Colab Notebooks/Special_Subject_Rafailidis/Special sub/pickle_files/predictions_fgrnn.pickle', 'wb') as handle:\n",
        "    pickle.dump(predictions_fgrnn, handle)"
      ]
    },
    {
      "cell_type": "code",
      "execution_count": null,
      "metadata": {
        "colab": {
          "base_uri": "https://localhost:8080/"
        },
        "id": "kf9YfSSrPR0S",
        "outputId": "58552735-fc1c-4dde-bf5b-ff4d577bde83"
      },
      "outputs": [
        {
          "name": "stderr",
          "output_type": "stream",
          "text": [
            "WARNING:tensorflow:Model was constructed with shape (None, 20, 1) for input KerasTensor(type_spec=TensorSpec(shape=(None, 20, 1), dtype=tf.float32, name='input_3'), name='input_3', description=\"created by layer 'input_3'\"), but it was called on an input with incompatible shape (None, 1, 1).\n"
          ]
        },
        {
          "name": "stdout",
          "output_type": "stream",
          "text": [
            "23/23 [==============================] - 0s 2ms/step\n"
          ]
        }
      ],
      "source": [
        "# Transformer\n",
        "from tensorflow.keras.layers import Input, Attention, Dense\n",
        "from tensorflow.keras.models import Model\n",
        "\n",
        "# Define the input layer\n",
        "input_layer = Input(shape=(n_past, 1))\n",
        "\n",
        "# Define the first encoder layer\n",
        "encoder_layer_1 = Attention()([input_layer,input_layer,input_layer])\n",
        "\n",
        "# Define the second encoder layer\n",
        "encoder_layer_2 = Attention()([encoder_layer_1,encoder_layer_1,encoder_layer_1])\n",
        "\n",
        "# Define the output layer\n",
        "output_layer = Dense(1)(encoder_layer_2)\n",
        "\n",
        "# Create the model\n",
        "transformer = Model(inputs=input_layer, outputs=output_layer)\n",
        "\n",
        "# Compile the model\n",
        "transformer.compile(optimizer='adam', loss='mean_squared_error')\n",
        "\n",
        "history_transf = transformer.fit(x_train_scaled_windowed, y_train_scaled_windowed, epochs=50, batch_size=300, verbose=0)\n",
        "\n",
        "predictions_transf = transformer.predict(x_test_scaled.reshape(-1, 1))\n",
        "predictions_transf = scaler.inverse_transform(predictions_transf.reshape(-1,1))\n",
        "# calculate the evaluation metrics\n",
        "mae = mean_absolute_error(x_test, predictions_transf)\n",
        "rmse = np.sqrt(mean_squared_error(x_test, predictions_transf))\n",
        "models['Transformer'] = transformer\n",
        "metrics['MAE'].append(mae)\n",
        "metrics['RMSE'].append(rmse)"
      ]
    },
    {
      "cell_type": "code",
      "execution_count": null,
      "metadata": {
        "id": "Z0FJUHaobhyD"
      },
      "outputs": [],
      "source": [
        "import pickle\n",
        "with open('/content/drive/MyDrive/Colab Notebooks/Special_Subject_Rafailidis/Special sub/pickle_files/predictions_transf.pickle', 'wb') as handle:\n",
        "    pickle.dump(predictions_transf, handle)"
      ]
    },
    {
      "cell_type": "code",
      "execution_count": null,
      "metadata": {
        "id": "fH6kFyWKbuso"
      },
      "outputs": [],
      "source": [
        "import pickle\n",
        "with open('/content/drive/MyDrive/Colab Notebooks/Special_Subject_Rafailidis/Special sub/pickle_files/metrics.pickle', 'wb') as handle:\n",
        "    pickle.dump(metrics, handle)"
      ]
    },
    {
      "cell_type": "code",
      "execution_count": null,
      "metadata": {
        "colab": {
          "base_uri": "https://localhost:8080/"
        },
        "id": "cV_-pIJxpq1B",
        "outputId": "9548eb6d-c1bc-4eb8-88c3-928c5af08ee0"
      },
      "outputs": [
        {
          "data": {
            "text/plain": [
              "dict_keys(['ALSTM', 'ADV-LSTM', 'Coarse-Grained RNN', 'Fine-Grained RNN', 'Linear Regression', 'Transformer', 'Multi-Grained RNN', 'Fine-Grained-RNN'])"
            ]
          },
          "execution_count": 271,
          "metadata": {},
          "output_type": "execute_result"
        }
      ],
      "source": [
        "models.keys()"
      ]
    },
    {
      "cell_type": "code",
      "execution_count": null,
      "metadata": {
        "id": "KX010wuZbg9G"
      },
      "outputs": [],
      "source": []
    },
    {
      "cell_type": "markdown",
      "metadata": {
        "id": "Rqgj1Bl7I_ky"
      },
      "source": [
        "## Loading Models"
      ]
    },
    {
      "cell_type": "code",
      "execution_count": null,
      "metadata": {
        "id": "AzP2K1T0vDG0"
      },
      "outputs": [],
      "source": [
        "import pickle\n",
        "with open('/content/drive/MyDrive/Colab Notebooks/Special_Subject_Rafailidis/Special sub/pickle_files/predictions_transf.pickle', 'rb') as handle:\n",
        "    predictions_transf = pickle.load(handle)"
      ]
    },
    {
      "cell_type": "code",
      "execution_count": null,
      "metadata": {
        "id": "U2jya0HQvErM"
      },
      "outputs": [],
      "source": [
        "with open('/content/drive/MyDrive/Colab Notebooks/Special_Subject_Rafailidis/Special sub/pickle_files/predictions_lr.pickle', 'rb') as handle:\n",
        "    predictions_lr = pickle.load(handle)"
      ]
    },
    {
      "cell_type": "code",
      "execution_count": null,
      "metadata": {
        "id": "itCzZnpIvFMU"
      },
      "outputs": [],
      "source": [
        "with open('/content/drive/MyDrive/Colab Notebooks/Special_Subject_Rafailidis/Special sub/pickle_files/predictions_fgrnn.pickle', 'rb') as handle:\n",
        "    predictions_fgrnn = pickle.load(handle)"
      ]
    },
    {
      "cell_type": "code",
      "execution_count": null,
      "metadata": {
        "id": "6wdd5MyGvFdz"
      },
      "outputs": [],
      "source": [
        "with open('/content/drive/MyDrive/Colab Notebooks/Special_Subject_Rafailidis/Special sub/pickle_files/predictions_cgrnn.pickle', 'rb') as handle:\n",
        "    predictions_cgrnn = pickle.load(handle)"
      ]
    },
    {
      "cell_type": "code",
      "execution_count": null,
      "metadata": {
        "id": "9djf12qBvF0T"
      },
      "outputs": [],
      "source": [
        "with open('/content/drive/MyDrive/Colab Notebooks/Special_Subject_Rafailidis/Special sub/pickle_files/predictions_adv.pickle', 'rb') as handle:\n",
        "    predictions_adv = pickle.load(handle)"
      ]
    },
    {
      "cell_type": "code",
      "execution_count": null,
      "metadata": {
        "id": "r9vDyCKrnRoo"
      },
      "outputs": [],
      "source": [
        "with open('/content/drive/MyDrive/Colab Notebooks/Special_Subject_Rafailidis/Special sub/pickle_files/predictions_alstm.pickle', 'rb') as handle:\n",
        "    predictions_alstm = pickle.load(handle)"
      ]
    },
    {
      "cell_type": "markdown",
      "metadata": {
        "id": "4ji1irHBveE0"
      },
      "source": [
        "# Comparison Table Evaluation Metrics (RMSE/MAE)"
      ]
    },
    {
      "cell_type": "code",
      "execution_count": null,
      "metadata": {
        "colab": {
          "base_uri": "https://localhost:8080/"
        },
        "id": "x8SZDGIx0yts",
        "outputId": "5bbe270c-992f-465a-b88a-8c642822afc4"
      },
      "outputs": [
        {
          "output_type": "stream",
          "name": "stdout",
          "text": [
            "(712, 1)\n",
            "(712, 1)\n",
            "(712, 1)\n",
            "(712, 1)\n",
            "(712, 1)\n",
            "(712, 1)\n"
          ]
        }
      ],
      "source": [
        "\n",
        "predictions_alstm = predictions_alstm[:712]\n",
        "predictions_fgrnn = predictions_fgrnn[:712]\n",
        "predictions_cgrnn = predictions_cgrnn[:712]\n",
        "predictions_lr = predictions_lr[:712]\n",
        "predictions_transf = predictions_transf[:712]\n",
        "print(predictions_alstm.shape)\n",
        "print(predictions_adv.shape)\n",
        "print(predictions_fgrnn.shape)\n",
        "print(predictions_cgrnn.shape)\n",
        "print(predictions_lr.shape)\n",
        "print(predictions_transf.shape)"
      ]
    },
    {
      "cell_type": "code",
      "execution_count": null,
      "metadata": {
        "colab": {
          "base_uri": "https://localhost:8080/",
          "height": 424
        },
        "id": "eS1OpqjBaMVs",
        "outputId": "3d01b5e1-253e-49f4-a828-694d068b2393"
      },
      "outputs": [
        {
          "output_type": "display_data",
          "data": {
            "text/plain": [
              "<Figure size 720x432 with 1 Axes>"
            ],
            "image/png": "[encoded data removed]"
          },
          "metadata": {}
        }
      ],
      "source": [
        "from sklearn.metrics import mean_squared_error, mean_absolute_error\n",
        "import matplotlib.dates as mdates\n",
        "\n",
        "K = 20\n",
        "init_inv = 1000000\n",
        "cumulative_profit = {}\n",
        "cumulative_returns = {}\n",
        "model_list = ['predictions_alstm','predictions_adv', 'predictions_fgrnn', 'predictions_cgrnn', 'predictions_lr', 'predictions_transf']\n",
        "#risk_indicators = {'Model': [], 'RankIC': [], 'RankIR': [], 'AR': [], 'Sharpe': [], 'MDD': []}\n",
        "# Create empty lists to store evaluation metrics\n",
        "rmse_list = []\n",
        "mae_list = []\n",
        "\n",
        "for model in model_list:\n",
        "    predictions = eval(model)\n",
        "    #print(predictions.shape)\n",
        "    #x_test_return = x_test_return.values\n",
        "    predicted_returns = (predictions - np.array(x_test_return.reshape(-1,1)[:712]) / np.array(x_test_return).reshape(-1,1)[:712] ) - 1\n",
        "\n",
        "    cum_predicted_returns = np.cumsum(predicted_returns)\n",
        "\n",
        "    profit = predicted_returns * np.array(x_test_cum).reshape(-1,1)[:712] + init_inv\n",
        "\n",
        "    # Calculate the cumulative profit by summing the profits\n",
        "    cum_profit = np.cumsum(profit)\n",
        "    # Add the cumulative profit to the dictionary\n",
        "    cumulative_profit[model] = profit\n",
        "    # Add the cumulative profit to the dictionary\n",
        "    cumulative_returns[model] = cum_predicted_returns\n",
        "    \n",
        "    # Mean and standard deviation of the target variable\n",
        "    mean_x_test_return = np.mean(x_test_return[:712])\n",
        "    std_x_test_return = np.std(x_test_return[:712])\n",
        "\n",
        "    # Normalize the target variable and predicted values\n",
        "    normalized_x_test_return = (x_test_return[:712] - mean_x_test_return) / std_x_test_return\n",
        "    normalized_predicted_returns = (predicted_returns - mean_x_test_return) / std_x_test_return\n",
        "\n",
        "    # Calculate the Z-score normalized MAE and RMSE\n",
        "    mae = mean_absolute_error(normalized_x_test_return, normalized_predicted_returns)\n",
        "    rmse = np.sqrt(mean_squared_error(normalized_x_test_return, normalized_predicted_returns))\n",
        "\n",
        "    # Append evaluation metrics to lists\n",
        "    rmse_list.append(rmse)\n",
        "    mae_list.append(mae)\n",
        "    \n",
        "\n",
        "\n",
        "\n",
        "\n",
        "plt.figure(figsize=(10, 6))\n",
        "\n",
        "for model in cumulative_profit.keys():\n",
        "  plt.plot(x_test_close.index[:712], cumulative_profit[model] , label=model)\n",
        "\n",
        "\n",
        "\n",
        "# Plot the benchmark\n",
        "plt.plot(x_test_close.index[:712],profit, label = \"benchmark\")\n",
        "\n",
        "\n",
        "\n",
        "# Format the x-axis labels to show only the year and month\n",
        "plt.gca().xaxis_date()\n",
        "plt.xticks(rotation=45)\n",
        "\n",
        "plt.gca().xaxis.set_major_formatter(mdates.DateFormatter('%Y-%m'))\n",
        "plt.gca().xaxis.set_major_locator(mdates.MonthLocator())\n",
        "plt.xlabel('Datetime')\n",
        "plt.ylabel('Cumulative Profit')\n",
        "plt.title('Cumulative Profit of $100,000 Investment')\n",
        "plt.legend(loc='best')\n",
        "plt.show()\n",
        "\n"
      ]
    },
    {
      "cell_type": "code",
      "source": [
        "def calc_MDD(return_series):\n",
        "    cum_return = (return_series + 1).cumprod()\n",
        "    peak_idx = np.where(cum_return == np.maximum.accumulate(cum_return))[0]\n",
        "    drawdown = np.zeros(len(cum_return))\n",
        "    for i in peak_idx:\n",
        "        drawdown[i:] = np.minimum(drawdown[i:], cum_return[i] - cum_return[i:])\n",
        "    return np.min(drawdown)\n",
        "\n",
        "\n"
      ],
      "metadata": {
        "id": "vSS_XFC1TgJp"
      },
      "execution_count": null,
      "outputs": []
    },
    {
      "cell_type": "markdown",
      "metadata": {
        "id": "5rs0HIEJspQI"
      },
      "source": [
        "## Calculation of the risk indicators for each model"
      ]
    },
    {
      "cell_type": "code",
      "execution_count": null,
      "metadata": {
        "colab": {
          "base_uri": "https://localhost:8080/",
          "height": 237
        },
        "id": "JOnDjWQJWa7o",
        "outputId": "48747e11-475c-4fb2-eb69-7256b6771b9d"
      },
      "outputs": [
        {
          "output_type": "execute_result",
          "data": {
            "text/plain": [
              "                Model    RankIC    RankIR    AR (%)    Sharpe       MDD\n",
              "0   predictions_alstm  0.296386  0.002890  0.000575  0.045874 -0.000367\n",
              "1     predictions_adv  0.214263  0.030295  0.429667  0.480912 -0.183498\n",
              "2   predictions_fgrnn -0.292534 -0.003004 -0.008161 -0.047687 -0.001090\n",
              "3   predictions_cgrnn  0.293863  0.003249  0.003808  0.051576 -0.001968\n",
              "4      predictions_lr -0.297069 -0.001888 -0.013013 -0.029974 -0.004497\n",
              "5  predictions_transf -0.297933  0.004471 -0.098969  0.070973 -0.033783"
            ],
            "text/html": [
              "\n",
              "  <div id=\"df-203d7d6a-cb02-48ff-8cde-c018f6cdcca1\">\n",
              "    <div class=\"colab-df-container\">\n",
              "      <div>\n",
              "<style scoped>\n",
              "    .dataframe tbody tr th:only-of-type {\n",
              "        vertical-align: middle;\n",
              "    }\n",
              "\n",
              "    .dataframe tbody tr th {\n",
              "        vertical-align: top;\n",
              "    }\n",
              "\n",
              "    .dataframe thead th {\n",
              "        text-align: right;\n",
              "    }\n",
              "</style>\n",
              "<table border=\"1\" class=\"dataframe\">\n",
              "  <thead>\n",
              "    <tr style=\"text-align: right;\">\n",
              "      <th></th>\n",
              "      <th>Model</th>\n",
              "      <th>RankIC</th>\n",
              "      <th>RankIR</th>\n",
              "      <th>AR (%)</th>\n",
              "      <th>Sharpe</th>\n",
              "      <th>MDD</th>\n",
              "    </tr>\n",
              "  </thead>\n",
              "  <tbody>\n",
              "    <tr>\n",
              "      <th>0</th>\n",
              "      <td>predictions_alstm</td>\n",
              "      <td>0.296386</td>\n",
              "      <td>0.002890</td>\n",
              "      <td>0.000575</td>\n",
              "      <td>0.045874</td>\n",
              "      <td>-0.000367</td>\n",
              "    </tr>\n",
              "    <tr>\n",
              "      <th>1</th>\n",
              "      <td>predictions_adv</td>\n",
              "      <td>0.214263</td>\n",
              "      <td>0.030295</td>\n",
              "      <td>0.429667</td>\n",
              "      <td>0.480912</td>\n",
              "      <td>-0.183498</td>\n",
              "    </tr>\n",
              "    <tr>\n",
              "      <th>2</th>\n",
              "      <td>predictions_fgrnn</td>\n",
              "      <td>-0.292534</td>\n",
              "      <td>-0.003004</td>\n",
              "      <td>-0.008161</td>\n",
              "      <td>-0.047687</td>\n",
              "      <td>-0.001090</td>\n",
              "    </tr>\n",
              "    <tr>\n",
              "      <th>3</th>\n",
              "      <td>predictions_cgrnn</td>\n",
              "      <td>0.293863</td>\n",
              "      <td>0.003249</td>\n",
              "      <td>0.003808</td>\n",
              "      <td>0.051576</td>\n",
              "      <td>-0.001968</td>\n",
              "    </tr>\n",
              "    <tr>\n",
              "      <th>4</th>\n",
              "      <td>predictions_lr</td>\n",
              "      <td>-0.297069</td>\n",
              "      <td>-0.001888</td>\n",
              "      <td>-0.013013</td>\n",
              "      <td>-0.029974</td>\n",
              "      <td>-0.004497</td>\n",
              "    </tr>\n",
              "    <tr>\n",
              "      <th>5</th>\n",
              "      <td>predictions_transf</td>\n",
              "      <td>-0.297933</td>\n",
              "      <td>0.004471</td>\n",
              "      <td>-0.098969</td>\n",
              "      <td>0.070973</td>\n",
              "      <td>-0.033783</td>\n",
              "    </tr>\n",
              "  </tbody>\n",
              "</table>\n",
              "</div>\n",
              "      <button class=\"colab-df-convert\" onclick=\"convertToInteractive('df-203d7d6a-cb02-48ff-8cde-c018f6cdcca1')\"\n",
              "              title=\"Convert this dataframe to an interactive table.\"\n",
              "              style=\"display:none;\">\n",
              "        \n",
              "  <svg xmlns=\"http://www.w3.org/2000/svg\" height=\"24px\"viewBox=\"0 0 24 24\"\n",
              "       width=\"24px\">\n",
              "    <path d=\"M0 0h24v24H0V0z\" fill=\"none\"/>\n",
              "    <path d=\"M18.56 5.44l.94 2.06.94-2.06 2.06-.94-2.06-.94-.94-2.06-.94 2.06-2.06.94zm-11 1L8.5 8.5l.94-2.06 2.06-.94-2.06-.94L8.5 2.5l-.94 2.06-2.06.94zm10 10l.94 2.06.94-2.06 2.06-.94-2.06-.94-.94-2.06-.94 2.06-2.06.94z\"/><path d=\"M17.41 7.96l-1.37-1.37c-.4-.4-.92-.59-1.43-.59-.52 0-1.04.2-1.43.59L10.3 9.45l-7.72 7.72c-.78.78-.78 2.05 0 2.83L4 21.41c.39.39.9.59 1.41.59.51 0 1.02-.2 1.41-.59l7.78-7.78 2.81-2.81c.8-.78.8-2.07 0-2.86zM5.41 20L4 18.59l7.72-7.72 1.47 1.35L5.41 20z\"/>\n",
              "  </svg>\n",
              "      </button>\n",
              "      \n",
              "  <style>\n",
              "    .colab-df-container {\n",
              "      display:flex;\n",
              "      flex-wrap:wrap;\n",
              "      gap: 12px;\n",
              "    }\n",
              "\n",
              "    .colab-df-convert {\n",
              "      background-color: #E8F0FE;\n",
              "      border: none;\n",
              "      border-radius: 50%;\n",
              "      cursor: pointer;\n",
              "      display: none;\n",
              "      fill: #1967D2;\n",
              "      height: 32px;\n",
              "      padding: 0 0 0 0;\n",
              "      width: 32px;\n",
              "    }\n",
              "\n",
              "    .colab-df-convert:hover {\n",
              "      background-color: #E2EBFA;\n",
              "      box-shadow: 0px 1px 2px rgba(60, 64, 67, 0.3), 0px 1px 3px 1px rgba(60, 64, 67, 0.15);\n",
              "      fill: #174EA6;\n",
              "    }\n",
              "\n",
              "    [theme=dark] .colab-df-convert {\n",
              "      background-color: #3B4455;\n",
              "      fill: #D2E3FC;\n",
              "    }\n",
              "\n",
              "    [theme=dark] .colab-df-convert:hover {\n",
              "      background-color: #434B5C;\n",
              "      box-shadow: 0px 1px 3px 1px rgba(0, 0, 0, 0.15);\n",
              "      filter: drop-shadow(0px 1px 2px rgba(0, 0, 0, 0.3));\n",
              "      fill: #FFFFFF;\n",
              "    }\n",
              "  </style>\n",
              "\n",
              "      <script>\n",
              "        const buttonEl =\n",
              "          document.querySelector('#df-203d7d6a-cb02-48ff-8cde-c018f6cdcca1 button.colab-df-convert');\n",
              "        buttonEl.style.display =\n",
              "          google.colab.kernel.accessAllowed ? 'block' : 'none';\n",
              "\n",
              "        async function convertToInteractive(key) {\n",
              "          const element = document.querySelector('#df-203d7d6a-cb02-48ff-8cde-c018f6cdcca1');\n",
              "          const dataTable =\n",
              "            await google.colab.kernel.invokeFunction('convertToInteractive',\n",
              "                                                     [key], {});\n",
              "          if (!dataTable) return;\n",
              "\n",
              "          const docLinkHtml = 'Like what you see? Visit the ' +\n",
              "            '<a target=\"_blank\" href=https://colab.research.google.com/notebooks/data_table.ipynb>data table notebook</a>'\n",
              "            + ' to learn more about interactive tables.';\n",
              "          element.innerHTML = '';\n",
              "          dataTable['output_type'] = 'display_data';\n",
              "          await google.colab.output.renderOutput(dataTable, element);\n",
              "          const docLink = document.createElement('div');\n",
              "          docLink.innerHTML = docLinkHtml;\n",
              "          element.appendChild(docLink);\n",
              "        }\n",
              "      </script>\n",
              "    </div>\n",
              "  </div>\n",
              "  "
            ]
          },
          "metadata": {},
          "execution_count": 443
        }
      ],
      "source": [
        "risk_indicators = {'Model': [], 'RankIC': [], 'RankIR': [], 'AR (%)': [], 'Sharpe': [], 'MDD': []}\n",
        "\n",
        "mae_list = []\n",
        "rmse_list = []\n",
        "# Calculation of the risk indicators for each model\n",
        "for model in model_list:\n",
        "\n",
        "\n",
        "\n",
        "  predictions = eval(model)\n",
        "  predictions = pd.DataFrame(predictions)\n",
        "  #predicted_returns = (predictions - np.array(x_test_close).reshape(-1,1)[:712]) / np.array(x_test_return).reshape(-1,1)[:712]  - 1\n",
        "  predicted_returns = predictions.shift(-1) / predictions - 1\n",
        "  predicted_returns = np.nan_to_num(predicted_returns)\n",
        "  rmse = np.sqrt(mean_squared_error(x_test_return[:712] , predicted_returns))\n",
        "  mae = mean_absolute_error(x_test_return[:712], predicted_returns)\n",
        "    #predicted_returns = predicted_returns\n",
        "    #predicted_returns = (predictions / predictions.shift(1)) - 1\n",
        "  if np.count_nonzero(predicted_returns) != 0:\n",
        "\n",
        "      rankIC = rank_IC(np.array(predicted_returns).ravel(), x_test_return[:712])\n",
        "      rankIR = rank_IR(predicted_returns)\n",
        "      ar = annual_return(predicted_returns, periods_per_year= 24)\n",
        "      sharpe = sharpe_ratio(predicted_returns)\n",
        "      mdd = calc_MDD(np.array(predicted_returns).ravel())\n",
        "      \n",
        "      # Add the risk indicators to the dictionary\n",
        "      risk_indicators['Model'].append(model)\n",
        "      risk_indicators['RankIC'].append(rankIC)\n",
        "      risk_indicators['RankIR'].append(rankIR)\n",
        "      risk_indicators['AR (%)'].append(ar)\n",
        "      risk_indicators['Sharpe'].append(sharpe)\n",
        "      risk_indicators['MDD'].append(mdd)\n",
        "      rmse_list.append(mae)\n",
        "      mae_list.append(rmse)\n",
        "\n",
        "# Convertion from dictionary to a DataFrame\n",
        "risk_indicators_df = pd.DataFrame(risk_indicators)\n",
        "\n",
        "# Print the comparison table\n",
        "risk_indicators_df"
      ]
    },
    {
      "cell_type": "code",
      "source": [
        "eval_metrics = pd.DataFrame({'Model': model_list, 'RMSE': rmse_list, 'MAE': mae_list})\n",
        "eval_metrics.name = 'Evaluation Metrics - CSI_300'"
      ],
      "metadata": {
        "id": "_RYETYsuQxwB"
      },
      "execution_count": null,
      "outputs": []
    },
    {
      "cell_type": "code",
      "source": [
        "from IPython.display import display\n",
        "display(eval_metrics)"
      ],
      "metadata": {
        "id": "VSEQHEYGSBO2",
        "outputId": "eec3bfd1-9c12-4e1f-9c5e-ffa8beda56bf",
        "colab": {
          "base_uri": "https://localhost:8080/",
          "height": 237
        }
      },
      "execution_count": null,
      "outputs": [
        {
          "output_type": "display_data",
          "data": {
            "text/plain": [
              "                Model      RMSE       MAE\n",
              "0   predictions_alstm  0.000067  0.000093\n",
              "1     predictions_adv  0.035367  0.055630\n",
              "2   predictions_fgrnn  0.000608  0.000992\n",
              "3   predictions_cgrnn  0.000319  0.000519\n",
              "4      predictions_lr  0.001184  0.001926\n",
              "5  predictions_transf  0.008982  0.014567"
            ],
            "text/html": [
              "\n",
              "  <div id=\"df-ad26e31c-cf16-4a82-966e-9a7df2362c6b\">\n",
              "    <div class=\"colab-df-container\">\n",
              "      <div>\n",
              "<style scoped>\n",
              "    .dataframe tbody tr th:only-of-type {\n",
              "        vertical-align: middle;\n",
              "    }\n",
              "\n",
              "    .dataframe tbody tr th {\n",
              "        vertical-align: top;\n",
              "    }\n",
              "\n",
              "    .dataframe thead th {\n",
              "        text-align: right;\n",
              "    }\n",
              "</style>\n",
              "<table border=\"1\" class=\"dataframe\">\n",
              "  <thead>\n",
              "    <tr style=\"text-align: right;\">\n",
              "      <th></th>\n",
              "      <th>Model</th>\n",
              "      <th>RMSE</th>\n",
              "      <th>MAE</th>\n",
              "    </tr>\n",
              "  </thead>\n",
              "  <tbody>\n",
              "    <tr>\n",
              "      <th>0</th>\n",
              "      <td>predictions_alstm</td>\n",
              "      <td>0.000067</td>\n",
              "      <td>0.000093</td>\n",
              "    </tr>\n",
              "    <tr>\n",
              "      <th>1</th>\n",
              "      <td>predictions_adv</td>\n",
              "      <td>0.035367</td>\n",
              "      <td>0.055630</td>\n",
              "    </tr>\n",
              "    <tr>\n",
              "      <th>2</th>\n",
              "      <td>predictions_fgrnn</td>\n",
              "      <td>0.000608</td>\n",
              "      <td>0.000992</td>\n",
              "    </tr>\n",
              "    <tr>\n",
              "      <th>3</th>\n",
              "      <td>predictions_cgrnn</td>\n",
              "      <td>0.000319</td>\n",
              "      <td>0.000519</td>\n",
              "    </tr>\n",
              "    <tr>\n",
              "      <th>4</th>\n",
              "      <td>predictions_lr</td>\n",
              "      <td>0.001184</td>\n",
              "      <td>0.001926</td>\n",
              "    </tr>\n",
              "    <tr>\n",
              "      <th>5</th>\n",
              "      <td>predictions_transf</td>\n",
              "      <td>0.008982</td>\n",
              "      <td>0.014567</td>\n",
              "    </tr>\n",
              "  </tbody>\n",
              "</table>\n",
              "</div>\n",
              "      <button class=\"colab-df-convert\" onclick=\"convertToInteractive('df-ad26e31c-cf16-4a82-966e-9a7df2362c6b')\"\n",
              "              title=\"Convert this dataframe to an interactive table.\"\n",
              "              style=\"display:none;\">\n",
              "        \n",
              "  <svg xmlns=\"http://www.w3.org/2000/svg\" height=\"24px\"viewBox=\"0 0 24 24\"\n",
              "       width=\"24px\">\n",
              "    <path d=\"M0 0h24v24H0V0z\" fill=\"none\"/>\n",
              "    <path d=\"M18.56 5.44l.94 2.06.94-2.06 2.06-.94-2.06-.94-.94-2.06-.94 2.06-2.06.94zm-11 1L8.5 8.5l.94-2.06 2.06-.94-2.06-.94L8.5 2.5l-.94 2.06-2.06.94zm10 10l.94 2.06.94-2.06 2.06-.94-2.06-.94-.94-2.06-.94 2.06-2.06.94z\"/><path d=\"M17.41 7.96l-1.37-1.37c-.4-.4-.92-.59-1.43-.59-.52 0-1.04.2-1.43.59L10.3 9.45l-7.72 7.72c-.78.78-.78 2.05 0 2.83L4 21.41c.39.39.9.59 1.41.59.51 0 1.02-.2 1.41-.59l7.78-7.78 2.81-2.81c.8-.78.8-2.07 0-2.86zM5.41 20L4 18.59l7.72-7.72 1.47 1.35L5.41 20z\"/>\n",
              "  </svg>\n",
              "      </button>\n",
              "      \n",
              "  <style>\n",
              "    .colab-df-container {\n",
              "      display:flex;\n",
              "      flex-wrap:wrap;\n",
              "      gap: 12px;\n",
              "    }\n",
              "\n",
              "    .colab-df-convert {\n",
              "      background-color: #E8F0FE;\n",
              "      border: none;\n",
              "      border-radius: 50%;\n",
              "      cursor: pointer;\n",
              "      display: none;\n",
              "      fill: #1967D2;\n",
              "      height: 32px;\n",
              "      padding: 0 0 0 0;\n",
              "      width: 32px;\n",
              "    }\n",
              "\n",
              "    .colab-df-convert:hover {\n",
              "      background-color: #E2EBFA;\n",
              "      box-shadow: 0px 1px 2px rgba(60, 64, 67, 0.3), 0px 1px 3px 1px rgba(60, 64, 67, 0.15);\n",
              "      fill: #174EA6;\n",
              "    }\n",
              "\n",
              "    [theme=dark] .colab-df-convert {\n",
              "      background-color: #3B4455;\n",
              "      fill: #D2E3FC;\n",
              "    }\n",
              "\n",
              "    [theme=dark] .colab-df-convert:hover {\n",
              "      background-color: #434B5C;\n",
              "      box-shadow: 0px 1px 3px 1px rgba(0, 0, 0, 0.15);\n",
              "      filter: drop-shadow(0px 1px 2px rgba(0, 0, 0, 0.3));\n",
              "      fill: #FFFFFF;\n",
              "    }\n",
              "  </style>\n",
              "\n",
              "      <script>\n",
              "        const buttonEl =\n",
              "          document.querySelector('#df-ad26e31c-cf16-4a82-966e-9a7df2362c6b button.colab-df-convert');\n",
              "        buttonEl.style.display =\n",
              "          google.colab.kernel.accessAllowed ? 'block' : 'none';\n",
              "\n",
              "        async function convertToInteractive(key) {\n",
              "          const element = document.querySelector('#df-ad26e31c-cf16-4a82-966e-9a7df2362c6b');\n",
              "          const dataTable =\n",
              "            await google.colab.kernel.invokeFunction('convertToInteractive',\n",
              "                                                     [key], {});\n",
              "          if (!dataTable) return;\n",
              "\n",
              "          const docLinkHtml = 'Like what you see? Visit the ' +\n",
              "            '<a target=\"_blank\" href=https://colab.research.google.com/notebooks/data_table.ipynb>data table notebook</a>'\n",
              "            + ' to learn more about interactive tables.';\n",
              "          element.innerHTML = '';\n",
              "          dataTable['output_type'] = 'display_data';\n",
              "          await google.colab.output.renderOutput(dataTable, element);\n",
              "          const docLink = document.createElement('div');\n",
              "          docLink.innerHTML = docLinkHtml;\n",
              "          element.appendChild(docLink);\n",
              "        }\n",
              "      </script>\n",
              "    </div>\n",
              "  </div>\n",
              "  "
            ]
          },
          "metadata": {}
        }
      ]
    },
    {
      "cell_type": "code",
      "source": [],
      "metadata": {
        "id": "ShQKasIWarHN"
      },
      "execution_count": null,
      "outputs": []
    }
  ],
  "metadata": {
    "accelerator": "GPU",
    "colab": {
      "provenance": []
    },
    "gpuClass": "standard",
    "kernelspec": {
      "display_name": "Python 3",
      "language": "python",
      "name": "python3"
    },
    "language_info": {
      "codemirror_mode": {
        "name": "ipython",
        "version": 3
      },
      "file_extension": ".py",
      "mimetype": "text/x-python",
      "name": "python",
      "nbconvert_exporter": "python",
      "pygments_lexer": "ipython3",
      "version": "3.7.6"
    }
  },
  "nbformat": 4,
  "nbformat_minor": 0
}